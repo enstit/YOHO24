{
 "cells": [
  {
   "cell_type": "markdown",
   "metadata": {},
   "source": [
    "## Data Preprocessing\n",
    "\n",
    "1. **Process Annotations**: Read the annotation files for each dataset and convert the event data into a unified format. For example, for the MUSP dataset, annotations are transformed into a list of events where each event is represented as a tuple containing the event type ('m' for music or 's' for speech), start time, and end time.\n",
    "\n",
    "2. **Save Processed Data**: Save the processed data, including the audio file paths and their corresponding events, into a new CSV file. This structured data will serve as the input for data generator."
   ]
  },
  {
   "cell_type": "code",
   "execution_count": null,
   "metadata": {},
   "outputs": [],
   "source": [
    "import os\n",
    "import csv"
   ]
  },
  {
   "cell_type": "markdown",
   "metadata": {},
   "source": [
    "### Musp"
   ]
  },
  {
   "cell_type": "code",
   "execution_count": 42,
   "metadata": {},
   "outputs": [
    {
     "name": "stdout",
     "output_type": "stream",
     "text": [
      "Processing ConscinciasParalelasN11-OEspelhoEOReflexoFantasiasEPerplexidadesParte413-12-1994.mp3...\n",
      "Processing ConscinciasParalelasN3-OsSentidosOSentirEAsNormasParte318-10-1994.mp3...\n",
      "Processing ConscinciasParalelasN7-OsSentidosOSentirEAsNormasParte715-1-1994.mp3...\n",
      "Processing eatmycountry1609.mp3...\n",
      "Processing theconcert16.mp3...\n",
      "Processing theconcert2.mp3...\n",
      "Processing theconcert2_v2.mp3...\n",
      "Processing UTMA-26.mp3...\n",
      "Processing UTMA-26_v2.mp3...\n"
     ]
    }
   ],
   "source": [
    "DATA_PATH = '../data/musp/'\n",
    "\n",
    "def get_files(data_path, extensions):\n",
    "  \"\"\"\n",
    "  Get a list of files in the specified data path with the given extensions.\n",
    "\n",
    "  Parameters:\n",
    "  - data_path (str): The path to the directory containing the files.\n",
    "  - extensions (str or tuple): The file extensions to filter by.\n",
    "\n",
    "  Returns:\n",
    "  - files (list): A list of file names that match the specified extensions.\n",
    "  \"\"\"\n",
    "  files = [f for f in os.listdir(data_path) if f.endswith(extensions)]\n",
    "  return files\n",
    "\n",
    "def write_data_to_csv(data, output_path):\n",
    "  \"\"\"\n",
    "  Write data to a CSV file.\n",
    "\n",
    "  Args:\n",
    "    data (dict): A dictionary containing the data to be written to the CSV file.\n",
    "    output_path (str): The path to the output CSV file.\n",
    "\n",
    "  Returns:\n",
    "    None\n",
    "  \"\"\"\n",
    "  with open(output_path, 'w', newline='') as file:\n",
    "    writer = csv.writer(file)\n",
    "    writer.writerow(['filepath', 'events'])\n",
    "    for key, value in data.items():\n",
    "      if value:\n",
    "        writer.writerow([key, value])\n",
    "\n",
    "# Get list of files in the data path with the .csv extension:\n",
    "files = get_files(DATA_PATH, extensions='.csv')\n",
    "\n",
    "musp_data = {}\n",
    "for f in files:\n",
    "    with open(DATA_PATH + f, 'r') as file:\n",
    "        reader = csv.reader(file)\n",
    "        file_name = f.split('.')[0]     # file name without the extension\n",
    "        file_name = file_name + '.mp3'  # add the .mp3 extension to match the audio files\n",
    "        musp_data[file_name] = []       # Initialize the list of events for this file\n",
    "\n",
    "        print(f'Processing {file_name}...')\n",
    "        for row in reader:\n",
    "            if row: # Skip empty lines\n",
    "              start = float(row[0])\n",
    "              duration = float(row[1])\n",
    "              end_time = start + duration\n",
    "              label = str(row[2])\n",
    "\n",
    "              musp_data[file_name].append(\n",
    "                (label, start, end_time) # Tuple with the event label, start (seconds) and end time (seconds)\n",
    "              )                          # i.e. ('s', 20, 22) means that the event 's' starts at 20s and ends at 22s\n",
    "\n",
    "# Write the data to a CSV file:     \n",
    "write_data_to_csv(musp_data, '../data/processed/musp.csv')"
   ]
  },
  {
   "cell_type": "markdown",
   "metadata": {},
   "source": [
    "### TUT"
   ]
  },
  {
   "cell_type": "code",
   "execution_count": 55,
   "metadata": {},
   "outputs": [
    {
     "name": "stdout",
     "output_type": "stream",
     "text": [
      "Processing ../data/tut/TUT-sound-events-2017-development/TUT-sound-events-2017-development.audio.1/TUT-sound-events-2017-development/audio/street/a001.wav...\n",
      "Processing ../data/tut/TUT-sound-events-2017-development/TUT-sound-events-2017-development.audio.1/TUT-sound-events-2017-development/audio/street/a003.wav...\n",
      "Processing ../data/tut/TUT-sound-events-2017-development/TUT-sound-events-2017-development.audio.1/TUT-sound-events-2017-development/audio/street/a008.wav...\n",
      "Processing ../data/tut/TUT-sound-events-2017-development/TUT-sound-events-2017-development.audio.1/TUT-sound-events-2017-development/audio/street/a010.wav...\n",
      "Processing ../data/tut/TUT-sound-events-2017-development/TUT-sound-events-2017-development.audio.1/TUT-sound-events-2017-development/audio/street/a012.wav...\n",
      "Processing ../data/tut/TUT-sound-events-2017-development/TUT-sound-events-2017-development.audio.1/TUT-sound-events-2017-development/audio/street/a013.wav...\n",
      "Processing ../data/tut/TUT-sound-events-2017-development/TUT-sound-events-2017-development.audio.1/TUT-sound-events-2017-development/audio/street/a124.wav...\n",
      "Processing ../data/tut/TUT-sound-events-2017-development/TUT-sound-events-2017-development.audio.1/TUT-sound-events-2017-development/audio/street/a127.wav...\n",
      "Processing ../data/tut/TUT-sound-events-2017-development/TUT-sound-events-2017-development.audio.2/TUT-sound-events-2017-development/audio/street/a128.wav...\n",
      "Processing ../data/tut/TUT-sound-events-2017-development/TUT-sound-events-2017-development.audio.1/TUT-sound-events-2017-development/audio/street/a129.wav...\n",
      "Processing ../data/tut/TUT-sound-events-2017-development/TUT-sound-events-2017-development.audio.2/TUT-sound-events-2017-development/audio/street/a131.wav...\n",
      "Processing ../data/tut/TUT-sound-events-2017-development/TUT-sound-events-2017-development.audio.1/TUT-sound-events-2017-development/audio/street/b003.wav...\n",
      "Processing ../data/tut/TUT-sound-events-2017-development/TUT-sound-events-2017-development.audio.1/TUT-sound-events-2017-development/audio/street/b005.wav...\n",
      "Processing ../data/tut/TUT-sound-events-2017-development/TUT-sound-events-2017-development.audio.1/TUT-sound-events-2017-development/audio/street/b006.wav...\n",
      "Processing ../data/tut/TUT-sound-events-2017-development/TUT-sound-events-2017-development.audio.2/TUT-sound-events-2017-development/audio/street/b007.wav...\n",
      "Processing ../data/tut/TUT-sound-events-2017-development/TUT-sound-events-2017-development.audio.1/TUT-sound-events-2017-development/audio/street/b008.wav...\n",
      "Processing ../data/tut/TUT-sound-events-2017-development/TUT-sound-events-2017-development.audio.1/TUT-sound-events-2017-development/audio/street/b009.wav...\n",
      "Processing ../data/tut/TUT-sound-events-2017-development/TUT-sound-events-2017-development.audio.1/TUT-sound-events-2017-development/audio/street/b091.wav...\n",
      "Processing ../data/tut/TUT-sound-events-2017-development/TUT-sound-events-2017-development.audio.2/TUT-sound-events-2017-development/audio/street/b093.wav...\n",
      "Processing ../data/tut/TUT-sound-events-2017-development/TUT-sound-events-2017-development.audio.1/TUT-sound-events-2017-development/audio/street/b094.wav...\n",
      "Processing ../data/tut/TUT-sound-events-2017-development/TUT-sound-events-2017-development.audio.1/TUT-sound-events-2017-development/audio/street/b095.wav...\n",
      "Processing ../data/tut/TUT-sound-events-2017-development/TUT-sound-events-2017-development.audio.1/TUT-sound-events-2017-development/audio/street/b098.wav...\n",
      "Processing ../data/tut/TUT-sound-events-2017-development/TUT-sound-events-2017-development.audio.1/TUT-sound-events-2017-development/audio/street/b099.wav...\n",
      "Processing ../data/tut/TUT-sound-events-2017-development/TUT-sound-events-2017-development.audio.1/TUT-sound-events-2017-development/audio/street/b100.wav...\n"
     ]
    }
   ],
   "source": [
    "DATA_PATH = '../data/tut/'\n",
    "\n",
    "\"\"\"\n",
    "tut\\TUT-sound-events-2017-development\\TUT-sound-events-2017-development.audio.1\\TUT-sound-events-2017-development\\audio\\street\n",
    "20 audios wav format\n",
    "\n",
    "tut\\TUT-sound-events-2017-development\\TUT-sound-events-2017-development.audio.2\\TUT-sound-events-2017-development\\audio\\street\n",
    "4 audios wav format\n",
    "\n",
    "total 24 audios\n",
    "\n",
    "\n",
    "tut\\TUT-sound-events-2017-development\\TUT-sound-events-2017-development.meta\\TUT-sound-events-2017-development\\meta\\street\n",
    "24 csv files with the same name as the audio files\n",
    "\n",
    "\"\"\"\n",
    "\n",
    "ANNOTETION_PATH = '../data/tut/TUT-sound-events-2017-development/TUT-sound-events-2017-development.meta/TUT-sound-events-2017-development/meta/street/'\n",
    "AUDIO_1_PATH = '../data/tut/TUT-sound-events-2017-development/TUT-sound-events-2017-development.audio.1/TUT-sound-events-2017-development/audio/street/'\n",
    "AUDIO_2_PATH = '../data/tut/TUT-sound-events-2017-development/TUT-sound-events-2017-development.audio.2/TUT-sound-events-2017-development/audio/street/'\n",
    "\n",
    "\n",
    "files = get_files(ANNOTETION_PATH, extensions='.ann')\n",
    "\n",
    "tut_data = {}\n",
    "for f in files:\n",
    "    with open(ANNOTETION_PATH + f, 'r'):\n",
    "\n",
    "        f_name = f.split('.')[0] + '.wav'\n",
    "\n",
    "        if f_name in ['a128.wav', 'a131.wav', 'b007.wav', 'b093.wav']:\n",
    "            f_path = AUDIO_2_PATH + f_name\n",
    "        else:\n",
    "          f_path = AUDIO_1_PATH + f_name\n",
    "          \n",
    "        tut_data[f_path] = []\n",
    "\n",
    "        print(f'Processing {f_path}...')\n",
    "\n",
    "        with open(ANNOTETION_PATH + f, 'r') as file:\n",
    "\n",
    "            reader = csv.reader(file)\n",
    "\n",
    "            for row in reader:\n",
    "                if row:\n",
    "                    # split in \\t and get the start and end time\n",
    "                    row = row[0].split('\\t')\n",
    "                    start = float(row[2])\n",
    "                    end = float(row[3])\n",
    "                    label = row[4]\n",
    "                    tut_data[f_path].append(\n",
    "                        (label, start, end)\n",
    "                    )\n",
    "\n",
    "write_data_to_csv(tut_data, '../data/processed/tut.csv')"
   ]
  },
  {
   "cell_type": "markdown",
   "metadata": {},
   "source": [
    "### Urban-SED"
   ]
  }
 ],
 "metadata": {
  "kernelspec": {
   "display_name": "base",
   "language": "python",
   "name": "python3"
  },
  "language_info": {
   "codemirror_mode": {
    "name": "ipython",
    "version": 3
   },
   "file_extension": ".py",
   "mimetype": "text/x-python",
   "name": "python",
   "nbconvert_exporter": "python",
   "pygments_lexer": "ipython3",
   "version": "3.11.5"
  }
 },
 "nbformat": 4,
 "nbformat_minor": 2
}
