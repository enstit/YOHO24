{
 "cells": [
  {
   "cell_type": "code",
   "execution_count": 13,
   "metadata": {},
   "outputs": [],
   "source": [
    "import os\n",
    "import requests\n",
    "import zipfile\n",
    "import tarfile\n",
    "from tqdm import tqdm\n",
    "\n",
    "\n",
    "def download_file(url: str, save_path: str) -> None:\n",
    "    \"\"\"\n",
    "    Download a file from a URL and save it locally.\n",
    "\n",
    "    Parameters:\n",
    "    - url (str): URL of the file to download.\n",
    "    - save_path (str): Local path to save the downloaded file.\n",
    "    \"\"\"\n",
    "    response = requests.get(url, stream=True)\n",
    "    with open(save_path, 'wb') as file:\n",
    "        for chunk in tqdm(response.iter_content(chunk_size=128)):\n",
    "            file.write(chunk)\n",
    "    print(f\"Downloaded {url} to {save_path}\")\n",
    "\n",
    "\n",
    "def uncompress_file(compressed_path: str, extract_to: str) -> None:\n",
    "    \"\"\"\n",
    "    Uncompress a file to a specified directory.\n",
    "    Supported file types: .zip, .tar, .tar.gz, .tar.bz2\n",
    "\n",
    "    Parameters:\n",
    "    - compressed_path (str): Path of the compressed file to uncompress.\n",
    "    - extract_to (str): Directory to save the uncompress file.\n",
    "    \"\"\"\n",
    "    if compressed_path.endswith('.zip'):\n",
    "        with zipfile.ZipFile(compressed_path, 'r') as zip_ref:\n",
    "            zip_ref.extractall(extract_to)\n",
    "    elif compressed_path.endswith('.tar') or compressed_path.endswith('.tar.gz') or compressed_path.endswith('.tar.bz2'):\n",
    "        with tarfile.open(compressed_path, 'r') as tar_ref:\n",
    "            tar_ref.extractall(extract_to)\n",
    "    print(f\"Extracted {compressed_path} to {extract_to}\")\n",
    "    os.remove(compressed_path)"
   ]
  },
  {
   "cell_type": "markdown",
   "metadata": {},
   "source": [
    "## Music-Speech Detection"
   ]
  },
  {
   "cell_type": "code",
   "execution_count": null,
   "metadata": {},
   "outputs": [],
   "source": [
    "# MuSpeak Dataset\n",
    "musp_url = \"https://mirg.city.ac.uk/datasets/muspeak/muspeak-mirex2015-detection-examples.zip\"\n",
    "musp_zip_path = \"../data/musp.zip\"\n",
    "musp_extract_to = \"../data/musp\"\n",
    "\n",
    "download_file(musp_url, musp_zip_path)\n",
    "uncompress_file(musp_zip_path, musp_extract_to)"
   ]
  },
  {
   "cell_type": "markdown",
   "metadata": {},
   "source": [
    "## TUT Sound Events Detection\n",
    "\n",
    "The dataset is downloaded from the [DCASE2017 Challenge official website](https://dcase.community/challenge2017)."
   ]
  },
  {
   "cell_type": "code",
   "execution_count": null,
   "metadata": {},
   "outputs": [],
   "source": [
    "# TUT Sound Events 2017 Dataset\n",
    "tut_urls = [(\"TUT-sound-events-2017-development\", \"https://zenodo.org/api/records/814831/files-archive\"),\n",
    "            (\"TUT-sound-events-2017-evaluation\", \"https://zenodo.org/api/records/1040179/files-archive\")\n",
    "            ]\n",
    "tut_zip_path = \"../data/tut.zip\"\n",
    "tut_extract_to = \"../data/tut\"\n",
    "\n",
    "for tut_name, tut_url in tut_urls:\n",
    "    tut_extract_to_subfolder = tut_extract_to + '/' + tut_name\n",
    "    download_file(tut_url, tut_zip_path)\n",
    "    uncompress_file(tut_zip_path, tut_extract_to_subfolder)\n",
    "\n",
    "    for item in tqdm(os.listdir(tut_extract_to_subfolder)):\n",
    "        if item.endswith('.zip'):\n",
    "            zipped_file = tut_extract_to_subfolder + '/' + item\n",
    "            unzipped_file = zipped_file.rsplit(\n",
    "                \".\", 1)[0]  # Remove .zip extension\n",
    "            uncompress_file(zipped_file, unzipped_file)\n",
    "            os.remove(zipped_file)"
   ]
  },
  {
   "cell_type": "markdown",
   "metadata": {},
   "source": [
    "## Urban-SED"
   ]
  },
  {
   "cell_type": "code",
   "execution_count": null,
   "metadata": {},
   "outputs": [],
   "source": [
    "# Urban-SED Dataset\n",
    "urbansed_url = \"https://zenodo.org/api/records/1324404/files-archive\"\n",
    "urbansed_zip_path = \"../data/urbansed.zip\"\n",
    "urbansed_extract_to = \"../data/urbansed\"\n",
    "\n",
    "download_file(urbansed_url, urbansed_zip_path)\n",
    "uncompress_file(urbansed_zip_path, urbansed_extract_to)\n",
    "# The folder contains a compressed subfolder\n",
    "uncompress_file(urbansed_extract_to + \"/URBAN-SED_v2.0.0.tar.gz\", urbansed_extract_to)"
   ]
  }
 ],
 "metadata": {
  "kernelspec": {
   "display_name": "Python 3 (ipykernel)",
   "language": "python",
   "name": "python3"
  },
  "language_info": {
   "codemirror_mode": {
    "name": "ipython",
    "version": 3
   },
   "file_extension": ".py",
   "mimetype": "text/x-python",
   "name": "python",
   "nbconvert_exporter": "python",
   "pygments_lexer": "ipython3",
   "version": "3.11.8"
  }
 },
 "nbformat": 4,
 "nbformat_minor": 2
}
