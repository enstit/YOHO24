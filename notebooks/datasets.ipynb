{
 "cells": [
  {
   "cell_type": "code",
   "execution_count": 12,
   "metadata": {},
   "outputs": [],
   "source": [
    "import os\n",
    "import requests\n",
    "import zipfile\n",
    "from tqdm import tqdm\n",
    "\n",
    "\n",
    "def download_file(url: str, save_path: str) -> None:\n",
    "    \"\"\"\n",
    "    Download a file from a URL and save it locally.\n",
    "\n",
    "    Parameters:\n",
    "    - url (str): URL of the file to download.\n",
    "    - save_path (str): Local path to save the downloaded file.\n",
    "    \"\"\"\n",
    "    response = requests.get(url, stream=True)\n",
    "    print(f\"Got response from {url}\")\n",
    "    with open(save_path, 'wb') as file:\n",
    "        for chunk in tqdm(response.iter_content(chunk_size=128)):\n",
    "            file.write(chunk)\n",
    "    print(f\"Downloaded {url} to {save_path}\")\n",
    "\n",
    "\n",
    "def unzip_file(zip_path: str, extract_to: str) -> None:\n",
    "    \"\"\"\n",
    "    Unzip a file to a specified directory.\n",
    "\n",
    "    Parameters:\n",
    "    - zip_path (str): Path of the zip file to unzip.\n",
    "    - extract_to (str): Directory to extract the zip file to.\n",
    "    \"\"\"\n",
    "    with zipfile.ZipFile(zip_path, 'r') as zip_ref:\n",
    "        zip_ref.extractall(extract_to)\n",
    "    print(f\"Extracted {zip_path} to {extract_to}\")\n",
    "    os.remove(zip_path)"
   ]
  },
  {
   "cell_type": "markdown",
   "metadata": {},
   "source": [
    "## Music-Speech Detection"
   ]
  },
  {
   "cell_type": "code",
   "execution_count": null,
   "metadata": {},
   "outputs": [],
   "source": [
    "# MuSpeak Dataset\n",
    "musp_url = \"https://mirg.city.ac.uk/datasets/muspeak/muspeak-mirex2015-detection-examples.zip\"\n",
    "musp_zip_path = \"../data/musp.zip\"\n",
    "musp_extract_to = \"../data/musp\"\n",
    "\n",
    "download_file(musp_url, musp_zip_path)\n",
    "unzip_file(musp_zip_path, musp_extract_to)"
   ]
  },
  {
   "cell_type": "markdown",
   "metadata": {},
   "source": [
    "## TUT Sound Evevent Detection\n",
    "\n",
    "The dataset is downloaded from the [DCASE2017 Challenge official website](https://dcase.community/challenge2017)."
   ]
  },
  {
   "cell_type": "code",
   "execution_count": null,
   "metadata": {},
   "outputs": [],
   "source": [
    "tut_urls = [(\"TUT-sound-events-2017-development\", \"https://zenodo.org/api/records/814831/files-archive\"),\n",
    "            (\"TUT-sound-events-2017-evaluation\", \"https://zenodo.org/api/records/1040179/files-archive\")\n",
    "            ]\n",
    "tut_zip_path = \"../data/tut.zip\"\n",
    "tut_extract_to = \"../data/tut\"\n",
    "\n",
    "for tut_name, tut_url in tut_urls:\n",
    "    tut_extract_to_subfolder = tut_extract_to + '/' + tut_name\n",
    "    download_file(tut_url, tut_zip_path)\n",
    "    unzip_file(tut_zip_path, tut_extract_to_subfolder)\n",
    "\n",
    "    for item in tqdm(os.listdir(tut_extract_to_subfolder)):\n",
    "        if item.endswith('.zip'):\n",
    "            zipped_file = tut_extract_to_subfolder + '/' + item\n",
    "            unzipped_file = zipped_file.rsplit(\n",
    "                \".\", 1)[0]  # Remove .zip extension\n",
    "            unzip_file(zipped_file, unzipped_file)\n",
    "            os.remove(zipped_file)"
   ]
  },
  {
   "cell_type": "markdown",
   "metadata": {},
   "source": [
    "## Urban-SED"
   ]
  },
  {
   "cell_type": "code",
   "execution_count": null,
   "metadata": {},
   "outputs": [],
   "source": []
  }
 ],
 "metadata": {
  "kernelspec": {
   "display_name": "Python 3 (ipykernel)",
   "language": "python",
   "name": "python3"
  },
  "language_info": {
   "codemirror_mode": {
    "name": "ipython",
    "version": 3
   },
   "file_extension": ".py",
   "mimetype": "text/x-python",
   "name": "python",
   "nbconvert_exporter": "python",
   "pygments_lexer": "ipython3",
   "version": "3.11.8"
  }
 },
 "nbformat": 4,
 "nbformat_minor": 2
}
