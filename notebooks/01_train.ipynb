{
 "cells": [
  {
   "cell_type": "markdown",
   "metadata": {},
   "source": [
    "# YOHO training"
   ]
  },
  {
   "cell_type": "code",
   "execution_count": 2,
   "metadata": {},
   "outputs": [
    {
     "name": "stdout",
     "output_type": "stream",
     "text": [
      "Pandas version:  2.1.2\n"
     ]
    }
   ],
   "source": [
    "# Import used libraries\n",
    "\n",
    "import pandas as pd\n",
    "print(\"Pandas version: \", pd.__version__)\n",
    "\n",
    "import torch\n",
    "torch.manual_seed(0)\n",
    "\n",
    "from utils import AudioClip, AudioFile, TUTDataset, YOHODataGenerator"
   ]
  },
  {
   "cell_type": "markdown",
   "metadata": {},
   "source": [
    "## Data generator"
   ]
  },
  {
   "cell_type": "code",
   "execution_count": 3,
   "metadata": {},
   "outputs": [],
   "source": [
    "audioclips = [\n",
    "    audioclip\n",
    "    for _, file in pd.read_csv(\"./data/tut.train.csv\").iterrows()\n",
    "    for audioclip in AudioFile(filepath=file.filepath, labels=file.events).audioclips(\n",
    "        win_ms=2560, hop_ms=1960\n",
    "    ) if _ < 1\n",
    "]"
   ]
  },
  {
   "cell_type": "code",
   "execution_count": 4,
   "metadata": {},
   "outputs": [
    {
     "name": "stdout",
     "output_type": "stream",
     "text": [
      "Number of audio files: 122\n",
      "Duration: 2.56 seconds\n",
      "Sampling rate: 44100 Hz\n"
     ]
    }
   ],
   "source": [
    "N_MELS = 40\n",
    "HOP_MS = 10\n",
    "WIN_MS = 40\n",
    "\n",
    "tut_train = TUTDataset(\n",
    "    audioclips=audioclips,\n",
    ")\n",
    "\n",
    "print(f\"Number of audio files: {len(tut_train)}\")\n",
    "print(f\"Duration: {tut_train.audioclips[0].duration} seconds\")\n",
    "print(f\"Sampling rate: {tut_train.audioclips[0].sr} Hz\")"
   ]
  },
  {
   "cell_type": "code",
   "execution_count": 5,
   "metadata": {},
   "outputs": [
    {
     "name": "stdout",
     "output_type": "stream",
     "text": [
      "Train features shape: torch.Size([1, 1, 257, 40])\n",
      "Train labels shape: torch.Size([1, 9, 18])\n"
     ]
    }
   ],
   "source": [
    "train_dataloader = YOHODataGenerator(tut_train, batch_size=1, shuffle=True)\n",
    "\n",
    "train_features, train_labels = next(iter(train_dataloader))\n",
    "\n",
    "print(f\"Train features shape: {train_features.shape}\")\n",
    "print(f\"Train labels shape: {train_labels.shape}\")"
   ]
  },
  {
   "cell_type": "code",
   "execution_count": 6,
   "metadata": {},
   "outputs": [
    {
     "data": {
      "text/plain": [
       "torch.Size([1, 9, 18])"
      ]
     },
     "execution_count": 6,
     "metadata": {},
     "output_type": "execute_result"
    }
   ],
   "source": [
    "import numpy as np\n",
    "\n",
    "mel = np.zeros((257, 40))\n",
    "mel = torch.tensor(mel, dtype=torch.float32).unsqueeze(0).unsqueeze(0)\n",
    "\n",
    "from models import YOHO\n",
    "\n",
    "prediction = YOHO(input_shape=(1, 257, 40), output_shape=(9,18))(mel)\n",
    "prediction.shape"
   ]
  },
  {
   "cell_type": "code",
   "execution_count": 7,
   "metadata": {},
   "outputs": [
    {
     "name": "stdout",
     "output_type": "stream",
     "text": [
      "----------------------------------------------------------------\n",
      "        Layer (type)               Output Shape         Param #\n",
      "================================================================\n",
      "            Conv2d-1          [-1, 32, 129, 20]             288\n",
      "       BatchNorm2d-2          [-1, 32, 129, 20]              64\n",
      "              ReLU-3          [-1, 32, 129, 20]               0\n",
      "            Conv2d-4          [-1, 32, 129, 20]             288\n",
      "       BatchNorm2d-5          [-1, 32, 129, 20]              64\n",
      "              ReLU-6          [-1, 32, 129, 20]               0\n",
      "            Conv2d-7          [-1, 64, 129, 20]           2,048\n",
      "       BatchNorm2d-8          [-1, 64, 129, 20]             128\n",
      "              ReLU-9          [-1, 64, 129, 20]               0\n",
      "          Dropout-10          [-1, 64, 129, 20]               0\n",
      "DepthwiseSeparableConv-11          [-1, 64, 129, 20]               0\n",
      "           Conv2d-12           [-1, 64, 65, 10]             576\n",
      "      BatchNorm2d-13           [-1, 64, 65, 10]             128\n",
      "             ReLU-14           [-1, 64, 65, 10]               0\n",
      "           Conv2d-15          [-1, 128, 65, 10]           8,192\n",
      "      BatchNorm2d-16          [-1, 128, 65, 10]             256\n",
      "             ReLU-17          [-1, 128, 65, 10]               0\n",
      "          Dropout-18          [-1, 128, 65, 10]               0\n",
      "DepthwiseSeparableConv-19          [-1, 128, 65, 10]               0\n",
      "           Conv2d-20          [-1, 128, 65, 10]           1,152\n",
      "      BatchNorm2d-21          [-1, 128, 65, 10]             256\n",
      "             ReLU-22          [-1, 128, 65, 10]               0\n",
      "           Conv2d-23          [-1, 128, 65, 10]          16,384\n",
      "      BatchNorm2d-24          [-1, 128, 65, 10]             256\n",
      "             ReLU-25          [-1, 128, 65, 10]               0\n",
      "          Dropout-26          [-1, 128, 65, 10]               0\n",
      "DepthwiseSeparableConv-27          [-1, 128, 65, 10]               0\n",
      "           Conv2d-28           [-1, 128, 33, 5]           1,152\n",
      "      BatchNorm2d-29           [-1, 128, 33, 5]             256\n",
      "             ReLU-30           [-1, 128, 33, 5]               0\n",
      "           Conv2d-31           [-1, 256, 33, 5]          32,768\n",
      "      BatchNorm2d-32           [-1, 256, 33, 5]             512\n",
      "             ReLU-33           [-1, 256, 33, 5]               0\n",
      "          Dropout-34           [-1, 256, 33, 5]               0\n",
      "DepthwiseSeparableConv-35           [-1, 256, 33, 5]               0\n",
      "           Conv2d-36           [-1, 256, 33, 5]           2,304\n",
      "      BatchNorm2d-37           [-1, 256, 33, 5]             512\n",
      "             ReLU-38           [-1, 256, 33, 5]               0\n",
      "           Conv2d-39           [-1, 256, 33, 5]          65,536\n",
      "      BatchNorm2d-40           [-1, 256, 33, 5]             512\n",
      "             ReLU-41           [-1, 256, 33, 5]               0\n",
      "          Dropout-42           [-1, 256, 33, 5]               0\n",
      "DepthwiseSeparableConv-43           [-1, 256, 33, 5]               0\n",
      "           Conv2d-44           [-1, 256, 17, 3]           2,304\n",
      "      BatchNorm2d-45           [-1, 256, 17, 3]             512\n",
      "             ReLU-46           [-1, 256, 17, 3]               0\n",
      "           Conv2d-47           [-1, 512, 17, 3]         131,072\n",
      "      BatchNorm2d-48           [-1, 512, 17, 3]           1,024\n",
      "             ReLU-49           [-1, 512, 17, 3]               0\n",
      "          Dropout-50           [-1, 512, 17, 3]               0\n",
      "DepthwiseSeparableConv-51           [-1, 512, 17, 3]               0\n",
      "           Conv2d-52           [-1, 512, 17, 3]           4,608\n",
      "      BatchNorm2d-53           [-1, 512, 17, 3]           1,024\n",
      "             ReLU-54           [-1, 512, 17, 3]               0\n",
      "           Conv2d-55           [-1, 512, 17, 3]         262,144\n",
      "      BatchNorm2d-56           [-1, 512, 17, 3]           1,024\n",
      "             ReLU-57           [-1, 512, 17, 3]               0\n",
      "          Dropout-58           [-1, 512, 17, 3]               0\n",
      "DepthwiseSeparableConv-59           [-1, 512, 17, 3]               0\n",
      "           Conv2d-60           [-1, 512, 17, 3]           4,608\n",
      "      BatchNorm2d-61           [-1, 512, 17, 3]           1,024\n",
      "             ReLU-62           [-1, 512, 17, 3]               0\n",
      "           Conv2d-63           [-1, 512, 17, 3]         262,144\n",
      "      BatchNorm2d-64           [-1, 512, 17, 3]           1,024\n",
      "             ReLU-65           [-1, 512, 17, 3]               0\n",
      "          Dropout-66           [-1, 512, 17, 3]               0\n",
      "DepthwiseSeparableConv-67           [-1, 512, 17, 3]               0\n",
      "           Conv2d-68           [-1, 512, 17, 3]           4,608\n",
      "      BatchNorm2d-69           [-1, 512, 17, 3]           1,024\n",
      "             ReLU-70           [-1, 512, 17, 3]               0\n",
      "           Conv2d-71           [-1, 512, 17, 3]         262,144\n",
      "      BatchNorm2d-72           [-1, 512, 17, 3]           1,024\n",
      "             ReLU-73           [-1, 512, 17, 3]               0\n",
      "          Dropout-74           [-1, 512, 17, 3]               0\n",
      "DepthwiseSeparableConv-75           [-1, 512, 17, 3]               0\n",
      "           Conv2d-76           [-1, 512, 17, 3]           4,608\n",
      "      BatchNorm2d-77           [-1, 512, 17, 3]           1,024\n",
      "             ReLU-78           [-1, 512, 17, 3]               0\n",
      "           Conv2d-79           [-1, 512, 17, 3]         262,144\n",
      "      BatchNorm2d-80           [-1, 512, 17, 3]           1,024\n",
      "             ReLU-81           [-1, 512, 17, 3]               0\n",
      "          Dropout-82           [-1, 512, 17, 3]               0\n",
      "DepthwiseSeparableConv-83           [-1, 512, 17, 3]               0\n",
      "           Conv2d-84           [-1, 512, 17, 3]           4,608\n",
      "      BatchNorm2d-85           [-1, 512, 17, 3]           1,024\n",
      "             ReLU-86           [-1, 512, 17, 3]               0\n",
      "           Conv2d-87           [-1, 512, 17, 3]         262,144\n",
      "      BatchNorm2d-88           [-1, 512, 17, 3]           1,024\n",
      "             ReLU-89           [-1, 512, 17, 3]               0\n",
      "          Dropout-90           [-1, 512, 17, 3]               0\n",
      "DepthwiseSeparableConv-91           [-1, 512, 17, 3]               0\n",
      "           Conv2d-92            [-1, 512, 9, 2]           4,608\n",
      "      BatchNorm2d-93            [-1, 512, 9, 2]           1,024\n",
      "             ReLU-94            [-1, 512, 9, 2]               0\n",
      "           Conv2d-95           [-1, 1024, 9, 2]         524,288\n",
      "      BatchNorm2d-96           [-1, 1024, 9, 2]           2,048\n",
      "             ReLU-97           [-1, 1024, 9, 2]               0\n",
      "          Dropout-98           [-1, 1024, 9, 2]               0\n",
      "DepthwiseSeparableConv-99           [-1, 1024, 9, 2]               0\n",
      "          Conv2d-100           [-1, 1024, 9, 2]           9,216\n",
      "     BatchNorm2d-101           [-1, 1024, 9, 2]           2,048\n",
      "            ReLU-102           [-1, 1024, 9, 2]               0\n",
      "          Conv2d-103           [-1, 1024, 9, 2]       1,048,576\n",
      "     BatchNorm2d-104           [-1, 1024, 9, 2]           2,048\n",
      "            ReLU-105           [-1, 1024, 9, 2]               0\n",
      "         Dropout-106           [-1, 1024, 9, 2]               0\n",
      "DepthwiseSeparableConv-107           [-1, 1024, 9, 2]               0\n",
      "          Conv2d-108           [-1, 1024, 9, 2]           9,216\n",
      "     BatchNorm2d-109           [-1, 1024, 9, 2]           2,048\n",
      "            ReLU-110           [-1, 1024, 9, 2]               0\n",
      "          Conv2d-111            [-1, 512, 9, 2]         524,288\n",
      "     BatchNorm2d-112            [-1, 512, 9, 2]           1,024\n",
      "            ReLU-113            [-1, 512, 9, 2]               0\n",
      "         Dropout-114            [-1, 512, 9, 2]               0\n",
      "DepthwiseSeparableConv-115            [-1, 512, 9, 2]               0\n",
      "          Conv2d-116            [-1, 512, 9, 2]           4,608\n",
      "     BatchNorm2d-117            [-1, 512, 9, 2]           1,024\n",
      "            ReLU-118            [-1, 512, 9, 2]               0\n",
      "          Conv2d-119            [-1, 256, 9, 2]         131,072\n",
      "     BatchNorm2d-120            [-1, 256, 9, 2]             512\n",
      "            ReLU-121            [-1, 256, 9, 2]               0\n",
      "         Dropout-122            [-1, 256, 9, 2]               0\n",
      "DepthwiseSeparableConv-123            [-1, 256, 9, 2]               0\n",
      "          Conv2d-124            [-1, 256, 9, 2]           2,304\n",
      "     BatchNorm2d-125            [-1, 256, 9, 2]             512\n",
      "            ReLU-126            [-1, 256, 9, 2]               0\n",
      "          Conv2d-127            [-1, 128, 9, 2]          32,768\n",
      "     BatchNorm2d-128            [-1, 128, 9, 2]             256\n",
      "            ReLU-129            [-1, 128, 9, 2]               0\n",
      "         Dropout-130            [-1, 128, 9, 2]               0\n",
      "DepthwiseSeparableConv-131            [-1, 128, 9, 2]               0\n",
      "          Conv2d-132            [-1, 256, 9, 2]          33,024\n",
      "          Conv1d-133               [-1, 18, 18]           4,626\n",
      "================================================================\n",
      "Total params: 3,953,682\n",
      "Trainable params: 3,953,682\n",
      "Non-trainable params: 0\n",
      "----------------------------------------------------------------\n",
      "Input size (MB): 0.04\n",
      "Forward/backward pass size (MB): 36.65\n",
      "Params size (MB): 15.08\n",
      "Estimated Total Size (MB): 51.77\n",
      "----------------------------------------------------------------\n"
     ]
    }
   ],
   "source": [
    "from torchsummary import summary\n",
    "\n",
    "summary(YOHO(input_shape=(1, 257, 40), output_shape=(18,9)), (1, 257, 40))"
   ]
  },
  {
   "cell_type": "code",
   "execution_count": null,
   "metadata": {},
   "outputs": [],
   "source": []
  }
 ],
 "metadata": {
  "kernelspec": {
   "display_name": "Python 3 (ipykernel)",
   "language": "python",
   "name": "python3"
  }
 },
 "nbformat": 4,
 "nbformat_minor": 2
}
