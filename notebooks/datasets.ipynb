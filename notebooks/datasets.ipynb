{
 "cells": [
  {
   "cell_type": "code",
   "execution_count": null,
   "metadata": {},
   "outputs": [],
   "source": [
    "import os\n",
    "import requests\n",
    "import zipfile\n",
    "\n",
    "def download_file(url, save_path):\n",
    "    \"\"\"\n",
    "    Download a file from a URL and save it locally.\n",
    "    \n",
    "    Parameters:\n",
    "    - url (str): URL of the file to download.\n",
    "    - save_path (str): Local path to save the downloaded file.\n",
    "    \"\"\"\n",
    "    response = requests.get(url, stream=True)\n",
    "    with open(save_path, 'wb') as file:\n",
    "        for chunk in response.iter_content(chunk_size=128):\n",
    "            file.write(chunk)\n",
    "    print(f\"Downloaded {url} to {save_path}\")\n",
    "\n",
    "def unzip_file(zip_path, extract_to):\n",
    "    \"\"\"\n",
    "    Unzip a file to a specified directory.\n",
    "    \n",
    "    Parameters:\n",
    "    - zip_path (str): Path of the zip file to unzip.\n",
    "    - extract_to (str): Directory to extract the zip file to.\n",
    "    \"\"\"\n",
    "    with zipfile.ZipFile(zip_path, 'r') as zip_ref:\n",
    "        zip_ref.extractall(extract_to)\n",
    "    print(f\"Extracted {zip_path} to {extract_to}\")"
   ]
  },
  {
   "cell_type": "markdown",
   "metadata": {},
   "source": [
    "## Music-Speech Detection"
   ]
  },
  {
   "cell_type": "code",
   "execution_count": null,
   "metadata": {},
   "outputs": [],
   "source": [
    "# MuSpeak Dataset\n",
    "musp_url = \"https://mirg.city.ac.uk/datasets/muspeak/muspeak-mirex2015-detection-examples.zip\"\n",
    "musp_zip_path = \"../data/musp.zip\"\n",
    "musp_extract_to = \"../data/musp\"\n",
    "download_file(musp_url, musp_zip_path)\n",
    "unzip_file(musp_zip_path, musp_extract_to)"
   ]
  },
  {
   "cell_type": "markdown",
   "metadata": {},
   "source": [
    "## TUT Sound Evevent Detection"
   ]
  },
  {
   "cell_type": "code",
   "execution_count": null,
   "metadata": {},
   "outputs": [],
   "source": []
  },
  {
   "cell_type": "markdown",
   "metadata": {},
   "source": [
    "## Urban-SED"
   ]
  },
  {
   "cell_type": "code",
   "execution_count": null,
   "metadata": {},
   "outputs": [],
   "source": []
  }
 ],
 "metadata": {
  "kernelspec": {
   "display_name": "base",
   "language": "python",
   "name": "python3"
  },
  "language_info": {
   "codemirror_mode": {
    "name": "ipython",
    "version": 3
   },
   "file_extension": ".py",
   "mimetype": "text/x-python",
   "name": "python",
   "nbconvert_exporter": "python",
   "pygments_lexer": "ipython3",
   "version": "3.11.5"
  }
 },
 "nbformat": 4,
 "nbformat_minor": 2
}
