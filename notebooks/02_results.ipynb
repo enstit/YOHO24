{
 "cells": [
  {
   "cell_type": "code",
   "execution_count": 1,
   "metadata": {},
   "outputs": [],
   "source": [
    "import json\n",
    "import matplotlib.pyplot as plt\n",
    "\n",
    "# Path to the losses.json file:\n",
    "\n",
    "# Load the losses.json file\n",
    "with open(\"./reports/losses.json\", \"r\") as f:\n",
    "    losses = json.load(f)\n",
    "\n",
    "# Extract epochs, train_loss, and val_loss\n",
    "epochs = []\n",
    "train_losses = []\n",
    "val_losses = []\n",
    "\n",
    "for epoch, metrics in losses.items():\n",
    "    epochs.append(int(epoch))\n",
    "    train_losses.append(metrics[\"train_loss\"])\n",
    "    val_losses.append(metrics[\"val_loss\"])\n",
    "\n",
    "# Sort the data by epochs to ensure correct plotting\n",
    "epochs, train_losses, val_losses = zip(*sorted(zip(epochs, train_losses, val_losses)))\n",
    "\n",
    "\n",
    "# Plot the training and validation losses\n",
    "plt.figure(figsize=(10, 6))\n",
    "plt.plot(epochs, train_losses, label=\"Training Loss\")\n",
    "plt.plot(epochs, val_losses, label=\"Validation Loss\", linestyle=\"--\")\n",
    "plt.xlabel(\"Epochs\")\n",
    "plt.ylabel(\"Loss\")\n",
    "plt.title(\"Training and Validation Losses\")\n",
    "plt.legend()\n",
    "plt.grid(True)\n",
    "plt.show()"
   ]
  }
 ],
 "metadata": {
  "kernelspec": {
   "display_name": "Python 3",
   "language": "python",
   "name": "python3"
  },
  "language_info": {
   "codemirror_mode": {
    "name": "ipython",
    "version": 3
   },
   "file_extension": ".py",
   "mimetype": "text/x-python",
   "name": "python",
   "nbconvert_exporter": "python",
   "pygments_lexer": "ipython3",
   "version": "3.11.3"
  }
 },
 "nbformat": 4,
 "nbformat_minor": 2
}
