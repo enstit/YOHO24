{
 "cells": [
  {
   "cell_type": "markdown",
   "metadata": {},
   "source": [
    "# Urbansed"
   ]
  },
  {
   "cell_type": "code",
   "execution_count": 16,
   "metadata": {},
   "outputs": [],
   "source": [
    "# Automatically reload modules before entering the execution of code typed at \n",
    "# the IPython prompt\n",
    "%load_ext autoreload\n",
    "%autoreload 2"
   ]
  },
  {
   "cell_type": "code",
   "execution_count": 1,
   "metadata": {},
   "outputs": [
    {
     "name": "stdout",
     "output_type": "stream",
     "text": [
      "System paths: ['/usr/local/lib/python311.zip', '/usr/local/lib/python3.11', '/usr/local/lib/python3.11/lib-dynload', '', '/usr/local/lib/python3.11/site-packages', '/home/enstit/jupyterlab-notebooks']\n",
      "pandas version: 2.1.2\n",
      "matplotlib version: 3.8.3\n",
      "librosa version: 0.10.2.post1\n",
      "torch version: 2.4.0\n"
     ]
    }
   ],
   "source": [
    "# Import used libraries\n",
    "\n",
    "import pandas as pd\n",
    "import matplotlib\n",
    "from matplotlib import pyplot as plt\n",
    "import librosa\n",
    "import torch\n",
    "\n",
    "torch.manual_seed(0)\n",
    "\n",
    "print(f\"{pd.__name__} version: {pd.__version__}\")\n",
    "print(f\"{matplotlib.__name__} version: {matplotlib.__version__}\")\n",
    "print(f\"{librosa.__name__} version: {librosa.__version__}\")\n",
    "print(f\"{torch.__name__} version: {torch.__version__}\")"
   ]
  },
  {
   "cell_type": "code",
   "execution_count": 2,
   "metadata": {},
   "outputs": [],
   "source": [
    "from yoho.utils import AudioFile\n",
    "\n",
    "def plot_melspectrogram(\n",
    "    audio: AudioFile,\n",
    "    n_mels: int = 40,\n",
    "    win_len: float = 0.04,\n",
    "    hop_len: float = 0.01,\n",
    "):\n",
    "    \"\"\"\n",
    "    Plots the Mel spectrogram.\n",
    "    \"\"\"\n",
    "    plt.figure(figsize=(10, 4))\n",
    "    plt.title(f\"Mel spectrogram\")\n",
    "    librosa.display.specshow(\n",
    "        data=audio.mel_spectrogram(\n",
    "            n_mels=n_mels, win_len=win_len, hop_len=hop_len\n",
    "        ),\n",
    "        sr=audio.sr,\n",
    "        x_axis=\"frames\",\n",
    "        y_axis=\"mel\",\n",
    "    )\n",
    "    plt.colorbar(format=\"%+2.0f dB\")\n",
    "    plt.tight_layout()\n",
    "    plt.show()"
   ]
  },
  {
   "cell_type": "markdown",
   "metadata": {},
   "source": [
    "## TUT Dataset"
   ]
  },
  {
   "cell_type": "code",
   "execution_count": 5,
   "metadata": {},
   "outputs": [
    {
     "name": "stderr",
     "output_type": "stream",
     "text": [
      "INFO:root:Loading the train dataset from the pickle file\n",
      "INFO:root:Loading the validation dataset from the pickle file\n"
     ]
    },
    {
     "name": "stdout",
     "output_type": "stream",
     "text": [
      "Number of audio clips in the train dataset: 54000\n",
      "Number of audio clips in the validation dataset: 18000\n",
      "Duration of each audio clips: 2.56 seconds\n",
      "Sampling rate of each audio clips: 44100 Hz\n"
     ]
    }
   ],
   "source": [
    "from yoho.train import load_dataset\n",
    "from yoho.utils import UrbanSEDDataset\n",
    "\n",
    "urbansed_train: UrbanSEDDataset = load_dataset(partition=\"train\")\n",
    "urbansed_val: UrbanSEDDataset = load_dataset(partition=\"validate\")\n",
    "\n",
    "print(f\"Number of audio clips in the train dataset: {len(urbansed_train)}\")\n",
    "print(f\"Number of audio clips in the validation dataset: {len(urbansed_val)}\")\n",
    "print(f\"Duration of each audio clips: {urbansed_train.audios[0].duration} seconds\")\n",
    "print(f\"Sampling rate of each audio clips: {urbansed_train.audios[0].sr} Hz\")"
   ]
  },
  {
   "cell_type": "markdown",
   "metadata": {},
   "source": [
    "## Data generator"
   ]
  },
  {
   "cell_type": "code",
   "execution_count": 6,
   "metadata": {},
   "outputs": [
    {
     "name": "stdout",
     "output_type": "stream",
     "text": [
      "Test features shape: torch.Size([32, 1, 40, 257])\n",
      "Test labels shape: torch.Size([32, 33, 9])\n"
     ]
    }
   ],
   "source": [
    "from yoho.utils import YOHODataGenerator\n",
    "\n",
    "val_dataloader = YOHODataGenerator(\n",
    "    urbansed_val, batch_size=32, shuffle=True\n",
    ")\n",
    "\n",
    "val_features, val_labels = next(iter(val_dataloader))\n",
    "\n",
    "print(f\"Test features shape: {val_features.shape}\")\n",
    "print(f\"Test labels shape: {val_labels.shape}\")"
   ]
  },
  {
   "cell_type": "markdown",
   "metadata": {},
   "source": [
    "## YOHO model"
   ]
  },
  {
   "cell_type": "code",
   "execution_count": 17,
   "metadata": {},
   "outputs": [
    {
     "name": "stdout",
     "output_type": "stream",
     "text": [
      "----------------------------------------------------------------\n",
      "        Layer (type)               Output Shape         Param #\n",
      "================================================================\n",
      "            Conv2d-1          [32, 32, 20, 129]             288\n",
      "       BatchNorm2d-2          [32, 32, 20, 129]              64\n",
      "              ReLU-3          [32, 32, 20, 129]               0\n",
      "            Conv2d-4          [32, 32, 20, 129]             288\n",
      "       BatchNorm2d-5          [32, 32, 20, 129]              64\n",
      "              ReLU-6          [32, 32, 20, 129]               0\n",
      "            Conv2d-7          [32, 64, 20, 129]           2,112\n",
      "       BatchNorm2d-8          [32, 64, 20, 129]             128\n",
      "              ReLU-9          [32, 64, 20, 129]               0\n",
      "          Dropout-10          [32, 64, 20, 129]               0\n",
      "DepthwiseSeparableConv-11          [32, 64, 20, 129]               0\n",
      "           Conv2d-12           [32, 64, 10, 65]             576\n",
      "      BatchNorm2d-13           [32, 64, 10, 65]             128\n",
      "             ReLU-14           [32, 64, 10, 65]               0\n",
      "           Conv2d-15          [32, 128, 10, 65]           8,320\n",
      "      BatchNorm2d-16          [32, 128, 10, 65]             256\n",
      "             ReLU-17          [32, 128, 10, 65]               0\n",
      "          Dropout-18          [32, 128, 10, 65]               0\n",
      "DepthwiseSeparableConv-19          [32, 128, 10, 65]               0\n",
      "           Conv2d-20          [32, 128, 10, 65]           1,152\n",
      "      BatchNorm2d-21          [32, 128, 10, 65]             256\n",
      "             ReLU-22          [32, 128, 10, 65]               0\n",
      "           Conv2d-23          [32, 128, 10, 65]          16,512\n",
      "      BatchNorm2d-24          [32, 128, 10, 65]             256\n",
      "             ReLU-25          [32, 128, 10, 65]               0\n",
      "          Dropout-26          [32, 128, 10, 65]               0\n",
      "DepthwiseSeparableConv-27          [32, 128, 10, 65]               0\n",
      "           Conv2d-28           [32, 128, 5, 33]           1,152\n",
      "      BatchNorm2d-29           [32, 128, 5, 33]             256\n",
      "             ReLU-30           [32, 128, 5, 33]               0\n",
      "           Conv2d-31           [32, 256, 5, 33]          33,024\n",
      "      BatchNorm2d-32           [32, 256, 5, 33]             512\n",
      "             ReLU-33           [32, 256, 5, 33]               0\n",
      "          Dropout-34           [32, 256, 5, 33]               0\n",
      "DepthwiseSeparableConv-35           [32, 256, 5, 33]               0\n",
      "           Conv2d-36           [32, 256, 5, 33]           2,304\n",
      "      BatchNorm2d-37           [32, 256, 5, 33]             512\n",
      "             ReLU-38           [32, 256, 5, 33]               0\n",
      "           Conv2d-39           [32, 256, 5, 33]          65,792\n",
      "      BatchNorm2d-40           [32, 256, 5, 33]             512\n",
      "             ReLU-41           [32, 256, 5, 33]               0\n",
      "          Dropout-42           [32, 256, 5, 33]               0\n",
      "DepthwiseSeparableConv-43           [32, 256, 5, 33]               0\n",
      "           Conv2d-44           [32, 256, 3, 17]           2,304\n",
      "      BatchNorm2d-45           [32, 256, 3, 17]             512\n",
      "             ReLU-46           [32, 256, 3, 17]               0\n",
      "           Conv2d-47           [32, 512, 3, 17]         131,584\n",
      "      BatchNorm2d-48           [32, 512, 3, 17]           1,024\n",
      "             ReLU-49           [32, 512, 3, 17]               0\n",
      "          Dropout-50           [32, 512, 3, 17]               0\n",
      "DepthwiseSeparableConv-51           [32, 512, 3, 17]               0\n",
      "           Conv2d-52           [32, 512, 3, 17]           4,608\n",
      "      BatchNorm2d-53           [32, 512, 3, 17]           1,024\n",
      "             ReLU-54           [32, 512, 3, 17]               0\n",
      "           Conv2d-55           [32, 512, 3, 17]         262,656\n",
      "      BatchNorm2d-56           [32, 512, 3, 17]           1,024\n",
      "             ReLU-57           [32, 512, 3, 17]               0\n",
      "          Dropout-58           [32, 512, 3, 17]               0\n",
      "DepthwiseSeparableConv-59           [32, 512, 3, 17]               0\n",
      "           Conv2d-60           [32, 512, 3, 17]           4,608\n",
      "      BatchNorm2d-61           [32, 512, 3, 17]           1,024\n",
      "             ReLU-62           [32, 512, 3, 17]               0\n",
      "           Conv2d-63           [32, 512, 3, 17]         262,656\n",
      "      BatchNorm2d-64           [32, 512, 3, 17]           1,024\n",
      "             ReLU-65           [32, 512, 3, 17]               0\n",
      "          Dropout-66           [32, 512, 3, 17]               0\n",
      "DepthwiseSeparableConv-67           [32, 512, 3, 17]               0\n",
      "           Conv2d-68           [32, 512, 3, 17]           4,608\n",
      "      BatchNorm2d-69           [32, 512, 3, 17]           1,024\n",
      "             ReLU-70           [32, 512, 3, 17]               0\n",
      "           Conv2d-71           [32, 512, 3, 17]         262,656\n",
      "      BatchNorm2d-72           [32, 512, 3, 17]           1,024\n",
      "             ReLU-73           [32, 512, 3, 17]               0\n",
      "          Dropout-74           [32, 512, 3, 17]               0\n",
      "DepthwiseSeparableConv-75           [32, 512, 3, 17]               0\n",
      "           Conv2d-76           [32, 512, 3, 17]           4,608\n",
      "      BatchNorm2d-77           [32, 512, 3, 17]           1,024\n",
      "             ReLU-78           [32, 512, 3, 17]               0\n",
      "           Conv2d-79           [32, 512, 3, 17]         262,656\n",
      "      BatchNorm2d-80           [32, 512, 3, 17]           1,024\n",
      "             ReLU-81           [32, 512, 3, 17]               0\n",
      "          Dropout-82           [32, 512, 3, 17]               0\n",
      "DepthwiseSeparableConv-83           [32, 512, 3, 17]               0\n",
      "           Conv2d-84           [32, 512, 3, 17]           4,608\n",
      "      BatchNorm2d-85           [32, 512, 3, 17]           1,024\n",
      "             ReLU-86           [32, 512, 3, 17]               0\n",
      "           Conv2d-87           [32, 512, 3, 17]         262,656\n",
      "      BatchNorm2d-88           [32, 512, 3, 17]           1,024\n",
      "             ReLU-89           [32, 512, 3, 17]               0\n",
      "          Dropout-90           [32, 512, 3, 17]               0\n",
      "DepthwiseSeparableConv-91           [32, 512, 3, 17]               0\n",
      "           Conv2d-92            [32, 512, 2, 9]           4,608\n",
      "      BatchNorm2d-93            [32, 512, 2, 9]           1,024\n",
      "             ReLU-94            [32, 512, 2, 9]               0\n",
      "           Conv2d-95           [32, 1024, 2, 9]         525,312\n",
      "      BatchNorm2d-96           [32, 1024, 2, 9]           2,048\n",
      "             ReLU-97           [32, 1024, 2, 9]               0\n",
      "          Dropout-98           [32, 1024, 2, 9]               0\n",
      "DepthwiseSeparableConv-99           [32, 1024, 2, 9]               0\n",
      "          Conv2d-100           [32, 1024, 2, 9]           9,216\n",
      "     BatchNorm2d-101           [32, 1024, 2, 9]           2,048\n",
      "            ReLU-102           [32, 1024, 2, 9]               0\n",
      "          Conv2d-103           [32, 1024, 2, 9]       1,049,600\n",
      "     BatchNorm2d-104           [32, 1024, 2, 9]           2,048\n",
      "            ReLU-105           [32, 1024, 2, 9]               0\n",
      "         Dropout-106           [32, 1024, 2, 9]               0\n",
      "DepthwiseSeparableConv-107           [32, 1024, 2, 9]               0\n",
      "          Conv2d-108           [32, 1024, 2, 9]           9,216\n",
      "     BatchNorm2d-109           [32, 1024, 2, 9]           2,048\n",
      "            ReLU-110           [32, 1024, 2, 9]               0\n",
      "          Conv2d-111            [32, 512, 2, 9]         524,800\n",
      "     BatchNorm2d-112            [32, 512, 2, 9]           1,024\n",
      "            ReLU-113            [32, 512, 2, 9]               0\n",
      "         Dropout-114            [32, 512, 2, 9]               0\n",
      "DepthwiseSeparableConv-115            [32, 512, 2, 9]               0\n",
      "          Conv2d-116            [32, 512, 2, 9]           4,608\n",
      "     BatchNorm2d-117            [32, 512, 2, 9]           1,024\n",
      "            ReLU-118            [32, 512, 2, 9]               0\n",
      "          Conv2d-119            [32, 256, 2, 9]         131,328\n",
      "     BatchNorm2d-120            [32, 256, 2, 9]             512\n",
      "            ReLU-121            [32, 256, 2, 9]               0\n",
      "         Dropout-122            [32, 256, 2, 9]               0\n",
      "DepthwiseSeparableConv-123            [32, 256, 2, 9]               0\n",
      "          Conv2d-124            [32, 256, 2, 9]           2,304\n",
      "     BatchNorm2d-125            [32, 256, 2, 9]             512\n",
      "            ReLU-126            [32, 256, 2, 9]               0\n",
      "          Conv2d-127            [32, 128, 2, 9]          32,896\n",
      "     BatchNorm2d-128            [32, 128, 2, 9]             256\n",
      "            ReLU-129            [32, 128, 2, 9]               0\n",
      "         Dropout-130            [32, 128, 2, 9]               0\n",
      "DepthwiseSeparableConv-131            [32, 128, 2, 9]               0\n",
      "          Conv1d-132                [32, 33, 9]           8,481\n",
      "================================================================\n",
      "Total params: 3,931,361\n",
      "Trainable params: 3,931,361\n",
      "Non-trainable params: 0\n",
      "----------------------------------------------------------------\n",
      "Input size (MB): 1.25\n",
      "Forward/backward pass size (MB): 1171.64\n",
      "Params size (MB): 15.00\n",
      "Estimated Total Size (MB): 1187.89\n",
      "----------------------------------------------------------------\n"
     ]
    }
   ],
   "source": [
    "from torchsummary import summary\n",
    "\n",
    "from yoho.models import YOHO\n",
    "from yoho.train import get_device\n",
    "\n",
    "# Get the available device (cuda, mps or cpu)\n",
    "device = get_device()\n",
    "\n",
    "# Define the model\n",
    "urbansed_model = YOHO(\n",
    "    name=\"UrbanSEDYOHO\",\n",
    "    input_shape=(1, 40, 257), n_classes=len(urbansed_train.labels)\n",
    ").to(device)\n",
    "\n",
    "urbansed_model.load(f\"./models/{urbansed_model.name}_checkpoint.pth.tar\", device)\n",
    "\n",
    "summary(\n",
    "    urbansed_model,\n",
    "    input_size=(1, 40, 257),\n",
    "    batch_size=32,\n",
    ")"
   ]
  },
  {
   "cell_type": "markdown",
   "metadata": {},
   "source": [
    "## Evaluation"
   ]
  },
  {
   "cell_type": "code",
   "execution_count": 18,
   "metadata": {},
   "outputs": [
    {
     "data": {
      "image/png": "[encoded data removed]",
      "text/plain": [
       "<Figure size 1000x600 with 1 Axes>"
      ]
     },
     "metadata": {},
     "output_type": "display_data"
    }
   ],
   "source": [
    "import json\n",
    "import matplotlib.pyplot as plt\n",
    "\n",
    "# Path to the losses.json file:\n",
    "\n",
    "# Load the losses.json file\n",
    "with open(\"./models/losses.json\", \"r\") as f:\n",
    "    losses = json.load(f)\n",
    "\n",
    "# Extract epochs, train_loss, and val_loss\n",
    "epochs = []\n",
    "train_losses = []\n",
    "val_losses = []\n",
    "\n",
    "for epoch, metrics in losses.items():\n",
    "    epochs.append(int(epoch))\n",
    "    train_losses.append(metrics[\"train_loss\"])\n",
    "    val_losses.append(metrics[\"val_loss\"])\n",
    "\n",
    "# Sort the data by epochs to ensure correct plotting\n",
    "epochs, train_losses, val_losses = zip(\n",
    "    *sorted(zip(epochs, train_losses, val_losses))\n",
    ")\n",
    "\n",
    "\n",
    "# Plot the training and validation losses\n",
    "plt.figure(figsize=(10, 6))\n",
    "plt.plot(epochs, train_losses, label=\"Training Loss\")\n",
    "plt.plot(epochs, val_losses, label=\"Validation Loss\", linestyle=\"--\")\n",
    "plt.xlabel(\"Epochs\")\n",
    "plt.ylabel(\"Loss\")\n",
    "plt.title(\"Training and Validation Losses\")\n",
    "plt.legend()\n",
    "plt.grid(True)\n",
    "plt.show()"
   ]
  }
 ],
 "metadata": {
  "kernelspec": {
   "display_name": "Python 3 (ipykernel)",
   "language": "python",
   "name": "python3"
  },
  "language_info": {
   "codemirror_mode": {
    "name": "ipython",
    "version": 3
   },
   "file_extension": ".py",
   "mimetype": "text/x-python",
   "name": "python",
   "nbconvert_exporter": "python",
   "pygments_lexer": "ipython3",
   "version": "3.11.8"
  }
 },
 "nbformat": 4,
 "nbformat_minor": 2
}
