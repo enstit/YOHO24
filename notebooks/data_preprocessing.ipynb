{
 "cells": [
  {
   "cell_type": "markdown",
   "metadata": {},
   "source": [
    "Read the musp files inside the ../data/musp folder and create a CSV file which will have:\n",
    "- name of the filepath\n",
    "- the list of events associated to that audio file."
   ]
  },
  {
   "cell_type": "code",
   "execution_count": null,
   "metadata": {},
   "outputs": [],
   "source": [
    "import os\n",
    "import csv"
   ]
  },
  {
   "cell_type": "code",
   "execution_count": 27,
   "metadata": {},
   "outputs": [],
   "source": [
    "DATA_PATH = '../data/musp/'\n",
    "OUTPUT_PATH = '../data/processed/musp.csv'\n",
    "\n",
    "# List of all csv files:\n",
    "files = [f for f in os.listdir(DATA_PATH) if f.endswith('.csv')]\n",
    "\n",
    "data = {}\n",
    "for f in files:\n",
    "    with open(DATA_PATH + f, 'r') as file:\n",
    "        reader = csv.reader(file)\n",
    "        \n",
    "        file_name = f.split('.')[0] # file name without the extension\n",
    "        data[file_name] = []        # Initialize the list of events for this file\n",
    "\n",
    "        for row in reader:\n",
    "\n",
    "            start = float(row[0])\n",
    "            duration = float(row[1])\n",
    "            end_time = start + duration\n",
    "            label = str(row[2])\n",
    "\n",
    "            data[file_name].append(\n",
    "               (label, start, end_time) # Tuple with the event label, start (seconds) and end time (seconds)\n",
    "            )                           # i.e. ('s', 20, 22) means that the event 's' starts at 20s and ends at 22s\n",
    "        \n",
    "# Save the data to a csv file\n",
    "with open(OUTPUT_PATH, 'w', newline='') as file:\n",
    "  writer = csv.writer(file)\n",
    "  writer.writerow(['filepath', 'events'])\n",
    "  for key, value in data.items():\n",
    "    if value:\n",
    "      writer.writerow([key, value])"
   ]
  }
 ],
 "metadata": {
  "kernelspec": {
   "display_name": "base",
   "language": "python",
   "name": "python3"
  },
  "language_info": {
   "codemirror_mode": {
    "name": "ipython",
    "version": 3
   },
   "file_extension": ".py",
   "mimetype": "text/x-python",
   "name": "python",
   "nbconvert_exporter": "python",
   "pygments_lexer": "ipython3",
   "version": "3.11.5"
  }
 },
 "nbformat": 4,
 "nbformat_minor": 2
}
