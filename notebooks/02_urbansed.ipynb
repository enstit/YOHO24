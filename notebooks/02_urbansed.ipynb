{
 "cells": [
  {
   "cell_type": "markdown",
   "metadata": {},
   "source": [
    "# Urbansed"
   ]
  },
  {
   "cell_type": "code",
   "execution_count": 1,
   "metadata": {},
   "outputs": [],
   "source": [
    "# Automatically reload modules before entering the execution of code typed at \n",
    "# the IPython prompt\n",
    "%load_ext autoreload\n",
    "%autoreload 2"
   ]
  },
  {
   "cell_type": "code",
   "execution_count": 3,
   "metadata": {},
   "outputs": [
    {
     "name": "stdout",
     "output_type": "stream",
     "text": [
      "pandas version: 2.1.2\n",
      "matplotlib version: 3.8.3\n",
      "librosa version: 0.10.2.post1\n",
      "torch version: 2.4.0\n"
     ]
    }
   ],
   "source": [
    "# Import used libraries\n",
    "\n",
    "import pandas as pd\n",
    "import matplotlib\n",
    "from matplotlib import pyplot as plt\n",
    "import librosa\n",
    "import torch\n",
    "\n",
    "torch.manual_seed(0)\n",
    "\n",
    "print(f\"{pd.__name__} version: {pd.__version__}\")\n",
    "print(f\"{matplotlib.__name__} version: {matplotlib.__version__}\")\n",
    "print(f\"{librosa.__name__} version: {librosa.__version__}\")\n",
    "print(f\"{torch.__name__} version: {torch.__version__}\")"
   ]
  },
  {
   "cell_type": "code",
   "execution_count": 4,
   "metadata": {},
   "outputs": [],
   "source": [
    "from yoho.utils import AudioFile\n",
    "\n",
    "def plot_melspectrogram(\n",
    "    audio: AudioFile,\n",
    "    n_mels: int = 40,\n",
    "    win_len: float = 1.00,\n",
    "    hop_len: float = 1.00,\n",
    "):\n",
    "    \"\"\"\n",
    "    Plots the Mel spectrogram.\n",
    "    \"\"\"\n",
    "    plt.figure(figsize=(10, 4))\n",
    "    plt.title(f\"Mel spectrogram\")\n",
    "    librosa.display.specshow(\n",
    "        data=audio.mel_spectrogram(\n",
    "            n_mels=n_mels, win_len=win_len, hop_len=hop_len\n",
    "        ),\n",
    "        sr=audio.sr,\n",
    "        x_axis=\"frames\",\n",
    "        y_axis=\"mel\",\n",
    "    )\n",
    "    plt.colorbar(format=\"%+2.0f dB\")\n",
    "    plt.tight_layout()\n",
    "    plt.show()"
   ]
  },
  {
   "cell_type": "markdown",
   "metadata": {},
   "source": [
    "## TUT Dataset"
   ]
  },
  {
   "cell_type": "code",
   "execution_count": 5,
   "metadata": {},
   "outputs": [],
   "source": [
    "from yoho.utils import AudioFile, UrbanSEDDataset"
   ]
  },
  {
   "cell_type": "code",
   "execution_count": 6,
   "metadata": {},
   "outputs": [
    {
     "name": "stdout",
     "output_type": "stream",
     "text": [
      "Number of audio clips in the train dataset: 24000\n",
      "Number of audio clips in the validation dataset: 8000\n",
      "Number of audio clips in the test dataset: 8000\n",
      "Duration of each audio clips: 2.56 seconds\n",
      "Sampling rate of each audio clips: 44100 Hz\n"
     ]
    }
   ],
   "source": [
    "N_MELS = 40\n",
    "HOP_MS = 10\n",
    "WIN_MS = 40\n",
    "\n",
    "urbansed_train = UrbanSEDDataset(\n",
    "    audios=[\n",
    "        audioclip\n",
    "        for _, audio in enumerate(\n",
    "            AudioFile(filepath=file.filepath, labels=eval(file.events))\n",
    "            for _, file in pd.read_csv(\n",
    "                \"./data/raw/URBAN-SED/train.csv\"\n",
    "            ).iterrows()\n",
    "        )\n",
    "        for audioclip in audio.subdivide(win_len=2.56, hop_len=1.96)\n",
    "    ]\n",
    ")\n",
    "\n",
    "urbansed_val = UrbanSEDDataset(\n",
    "    audios=[\n",
    "        audioclip\n",
    "        for _, audio in enumerate(\n",
    "            AudioFile(filepath=file.filepath, labels=eval(file.events))\n",
    "            for _, file in pd.read_csv(\n",
    "                \"./data/raw/URBAN-SED/validate.csv\"\n",
    "            ).iterrows()\n",
    "        )\n",
    "        for audioclip in audio.subdivide(win_len=2.56, hop_len=1.96)\n",
    "    ]\n",
    ")\n",
    "\n",
    "urbansed_test = UrbanSEDDataset(\n",
    "    audios=[\n",
    "        audioclip\n",
    "        for _, audio in enumerate(\n",
    "            AudioFile(filepath=file.filepath, labels=eval(file.events))\n",
    "            for _, file in pd.read_csv(\n",
    "                \"./data/raw/URBAN-SED/test.csv\"\n",
    "            ).iterrows()\n",
    "        )\n",
    "        for audioclip in audio.subdivide(win_len=2.56, hop_len=1.96)\n",
    "    ]\n",
    ")\n",
    "\n",
    "print(f\"Number of audio clips in the train dataset: {len(urbansed_train)}\")\n",
    "print(f\"Number of audio clips in the validation dataset: {len(urbansed_val)}\")\n",
    "print(f\"Number of audio clips in the test dataset: {len(urbansed_test)}\")\n",
    "print(f\"Duration of each audio clips: {urbansed_train.audios[0].duration} seconds\")\n",
    "print(f\"Sampling rate of each audio clips: {urbansed_train.audios[0].sr} Hz\")"
   ]
  },
  {
   "cell_type": "markdown",
   "metadata": {},
   "source": [
    "## Data generator"
   ]
  },
  {
   "cell_type": "code",
   "execution_count": 7,
   "metadata": {},
   "outputs": [],
   "source": [
    "from yoho.utils import YOHODataGenerator"
   ]
  },
  {
   "cell_type": "code",
   "execution_count": 8,
   "metadata": {},
   "outputs": [
    {
     "name": "stdout",
     "output_type": "stream",
     "text": [
      "Train features shape: torch.Size([32, 1, 40, 257])\n",
      "Train labels shape: torch.Size([32, 33, 9])\n"
     ]
    }
   ],
   "source": [
    "train_dataloader = YOHODataGenerator(\n",
    "    urbansed_train, batch_size=32, shuffle=True\n",
    ")\n",
    "\n",
    "val_dataloader = YOHODataGenerator(\n",
    "    urbansed_val, batch_size=32, shuffle=False\n",
    ")\n",
    "\n",
    "train_features, train_labels = next(iter(train_dataloader))\n",
    "\n",
    "print(f\"Train features shape: {train_features.shape}\")\n",
    "print(f\"Train labels shape: {train_labels.shape}\")"
   ]
  },
  {
   "cell_type": "markdown",
   "metadata": {},
   "source": [
    "## YOHO model"
   ]
  },
  {
   "cell_type": "code",
   "execution_count": 9,
   "metadata": {},
   "outputs": [
    {
     "name": "stdout",
     "output_type": "stream",
     "text": [
      "----------------------------------------------------------------\n",
      "        Layer (type)               Output Shape         Param #\n",
      "================================================================\n",
      "            Conv2d-1          [32, 32, 20, 129]             288\n",
      "       BatchNorm2d-2          [32, 32, 20, 129]              64\n",
      "              ReLU-3          [32, 32, 20, 129]               0\n",
      "            Conv2d-4          [32, 32, 20, 129]             288\n",
      "       BatchNorm2d-5          [32, 32, 20, 129]              64\n",
      "              ReLU-6          [32, 32, 20, 129]               0\n",
      "            Conv2d-7          [32, 64, 20, 129]           2,112\n",
      "       BatchNorm2d-8          [32, 64, 20, 129]             128\n",
      "              ReLU-9          [32, 64, 20, 129]               0\n",
      "          Dropout-10          [32, 64, 20, 129]               0\n",
      "DepthwiseSeparableConv-11          [32, 64, 20, 129]               0\n",
      "           Conv2d-12           [32, 64, 10, 65]             576\n",
      "      BatchNorm2d-13           [32, 64, 10, 65]             128\n",
      "             ReLU-14           [32, 64, 10, 65]               0\n",
      "           Conv2d-15          [32, 128, 10, 65]           8,320\n",
      "      BatchNorm2d-16          [32, 128, 10, 65]             256\n",
      "             ReLU-17          [32, 128, 10, 65]               0\n",
      "          Dropout-18          [32, 128, 10, 65]               0\n",
      "DepthwiseSeparableConv-19          [32, 128, 10, 65]               0\n",
      "           Conv2d-20          [32, 128, 10, 65]           1,152\n",
      "      BatchNorm2d-21          [32, 128, 10, 65]             256\n",
      "             ReLU-22          [32, 128, 10, 65]               0\n",
      "           Conv2d-23          [32, 128, 10, 65]          16,512\n",
      "      BatchNorm2d-24          [32, 128, 10, 65]             256\n",
      "             ReLU-25          [32, 128, 10, 65]               0\n",
      "          Dropout-26          [32, 128, 10, 65]               0\n",
      "DepthwiseSeparableConv-27          [32, 128, 10, 65]               0\n",
      "           Conv2d-28           [32, 128, 5, 33]           1,152\n",
      "      BatchNorm2d-29           [32, 128, 5, 33]             256\n",
      "             ReLU-30           [32, 128, 5, 33]               0\n",
      "           Conv2d-31           [32, 256, 5, 33]          33,024\n",
      "      BatchNorm2d-32           [32, 256, 5, 33]             512\n",
      "             ReLU-33           [32, 256, 5, 33]               0\n",
      "          Dropout-34           [32, 256, 5, 33]               0\n",
      "DepthwiseSeparableConv-35           [32, 256, 5, 33]               0\n",
      "           Conv2d-36           [32, 256, 5, 33]           2,304\n",
      "      BatchNorm2d-37           [32, 256, 5, 33]             512\n",
      "             ReLU-38           [32, 256, 5, 33]               0\n",
      "           Conv2d-39           [32, 256, 5, 33]          65,792\n",
      "      BatchNorm2d-40           [32, 256, 5, 33]             512\n",
      "             ReLU-41           [32, 256, 5, 33]               0\n",
      "          Dropout-42           [32, 256, 5, 33]               0\n",
      "DepthwiseSeparableConv-43           [32, 256, 5, 33]               0\n",
      "           Conv2d-44           [32, 256, 3, 17]           2,304\n",
      "      BatchNorm2d-45           [32, 256, 3, 17]             512\n",
      "             ReLU-46           [32, 256, 3, 17]               0\n",
      "           Conv2d-47           [32, 512, 3, 17]         131,584\n",
      "      BatchNorm2d-48           [32, 512, 3, 17]           1,024\n",
      "             ReLU-49           [32, 512, 3, 17]               0\n",
      "          Dropout-50           [32, 512, 3, 17]               0\n",
      "DepthwiseSeparableConv-51           [32, 512, 3, 17]               0\n",
      "           Conv2d-52           [32, 512, 3, 17]           4,608\n",
      "      BatchNorm2d-53           [32, 512, 3, 17]           1,024\n",
      "             ReLU-54           [32, 512, 3, 17]               0\n",
      "           Conv2d-55           [32, 512, 3, 17]         262,656\n",
      "      BatchNorm2d-56           [32, 512, 3, 17]           1,024\n",
      "             ReLU-57           [32, 512, 3, 17]               0\n",
      "          Dropout-58           [32, 512, 3, 17]               0\n",
      "DepthwiseSeparableConv-59           [32, 512, 3, 17]               0\n",
      "           Conv2d-60           [32, 512, 3, 17]           4,608\n",
      "      BatchNorm2d-61           [32, 512, 3, 17]           1,024\n",
      "             ReLU-62           [32, 512, 3, 17]               0\n",
      "           Conv2d-63           [32, 512, 3, 17]         262,656\n",
      "      BatchNorm2d-64           [32, 512, 3, 17]           1,024\n",
      "             ReLU-65           [32, 512, 3, 17]               0\n",
      "          Dropout-66           [32, 512, 3, 17]               0\n",
      "DepthwiseSeparableConv-67           [32, 512, 3, 17]               0\n",
      "           Conv2d-68           [32, 512, 3, 17]           4,608\n",
      "      BatchNorm2d-69           [32, 512, 3, 17]           1,024\n",
      "             ReLU-70           [32, 512, 3, 17]               0\n",
      "           Conv2d-71           [32, 512, 3, 17]         262,656\n",
      "      BatchNorm2d-72           [32, 512, 3, 17]           1,024\n",
      "             ReLU-73           [32, 512, 3, 17]               0\n",
      "          Dropout-74           [32, 512, 3, 17]               0\n",
      "DepthwiseSeparableConv-75           [32, 512, 3, 17]               0\n",
      "           Conv2d-76           [32, 512, 3, 17]           4,608\n",
      "      BatchNorm2d-77           [32, 512, 3, 17]           1,024\n",
      "             ReLU-78           [32, 512, 3, 17]               0\n",
      "           Conv2d-79           [32, 512, 3, 17]         262,656\n",
      "      BatchNorm2d-80           [32, 512, 3, 17]           1,024\n",
      "             ReLU-81           [32, 512, 3, 17]               0\n",
      "          Dropout-82           [32, 512, 3, 17]               0\n",
      "DepthwiseSeparableConv-83           [32, 512, 3, 17]               0\n",
      "           Conv2d-84           [32, 512, 3, 17]           4,608\n",
      "      BatchNorm2d-85           [32, 512, 3, 17]           1,024\n",
      "             ReLU-86           [32, 512, 3, 17]               0\n",
      "           Conv2d-87           [32, 512, 3, 17]         262,656\n",
      "      BatchNorm2d-88           [32, 512, 3, 17]           1,024\n",
      "             ReLU-89           [32, 512, 3, 17]               0\n",
      "          Dropout-90           [32, 512, 3, 17]               0\n",
      "DepthwiseSeparableConv-91           [32, 512, 3, 17]               0\n",
      "           Conv2d-92            [32, 512, 2, 9]           4,608\n",
      "      BatchNorm2d-93            [32, 512, 2, 9]           1,024\n",
      "             ReLU-94            [32, 512, 2, 9]               0\n",
      "           Conv2d-95           [32, 1024, 2, 9]         525,312\n",
      "      BatchNorm2d-96           [32, 1024, 2, 9]           2,048\n",
      "             ReLU-97           [32, 1024, 2, 9]               0\n",
      "          Dropout-98           [32, 1024, 2, 9]               0\n",
      "DepthwiseSeparableConv-99           [32, 1024, 2, 9]               0\n",
      "          Conv2d-100           [32, 1024, 2, 9]           9,216\n",
      "     BatchNorm2d-101           [32, 1024, 2, 9]           2,048\n",
      "            ReLU-102           [32, 1024, 2, 9]               0\n",
      "          Conv2d-103           [32, 1024, 2, 9]       1,049,600\n",
      "     BatchNorm2d-104           [32, 1024, 2, 9]           2,048\n",
      "            ReLU-105           [32, 1024, 2, 9]               0\n",
      "         Dropout-106           [32, 1024, 2, 9]               0\n",
      "DepthwiseSeparableConv-107           [32, 1024, 2, 9]               0\n",
      "          Conv2d-108           [32, 1024, 2, 9]           9,216\n",
      "     BatchNorm2d-109           [32, 1024, 2, 9]           2,048\n",
      "            ReLU-110           [32, 1024, 2, 9]               0\n",
      "          Conv2d-111            [32, 512, 2, 9]         524,800\n",
      "     BatchNorm2d-112            [32, 512, 2, 9]           1,024\n",
      "            ReLU-113            [32, 512, 2, 9]               0\n",
      "         Dropout-114            [32, 512, 2, 9]               0\n",
      "DepthwiseSeparableConv-115            [32, 512, 2, 9]               0\n",
      "          Conv2d-116            [32, 512, 2, 9]           4,608\n",
      "     BatchNorm2d-117            [32, 512, 2, 9]           1,024\n",
      "            ReLU-118            [32, 512, 2, 9]               0\n",
      "          Conv2d-119            [32, 256, 2, 9]         131,328\n",
      "     BatchNorm2d-120            [32, 256, 2, 9]             512\n",
      "            ReLU-121            [32, 256, 2, 9]               0\n",
      "         Dropout-122            [32, 256, 2, 9]               0\n",
      "DepthwiseSeparableConv-123            [32, 256, 2, 9]               0\n",
      "          Conv2d-124            [32, 256, 2, 9]           2,304\n",
      "     BatchNorm2d-125            [32, 256, 2, 9]             512\n",
      "            ReLU-126            [32, 256, 2, 9]               0\n",
      "          Conv2d-127            [32, 128, 2, 9]          32,896\n",
      "     BatchNorm2d-128            [32, 128, 2, 9]             256\n",
      "            ReLU-129            [32, 128, 2, 9]               0\n",
      "         Dropout-130            [32, 128, 2, 9]               0\n",
      "DepthwiseSeparableConv-131            [32, 128, 2, 9]               0\n",
      "          Conv1d-132                [32, 33, 9]           8,481\n",
      "================================================================\n",
      "Total params: 3,931,361\n",
      "Trainable params: 3,931,361\n",
      "Non-trainable params: 0\n",
      "----------------------------------------------------------------\n",
      "Input size (MB): 1.25\n",
      "Forward/backward pass size (MB): 1171.64\n",
      "Params size (MB): 15.00\n",
      "Estimated Total Size (MB): 1187.89\n",
      "----------------------------------------------------------------\n"
     ]
    }
   ],
   "source": [
    "from torchsummary import summary\n",
    "\n",
    "from yoho.models import YOHO\n",
    "from yoho.train import get_device\n",
    "\n",
    "# Get the available device (cuda, mps or cpu)\n",
    "device = get_device()\n",
    "\n",
    "# Define the model\n",
    "urbansed_model = YOHO(\n",
    "    name=\"UrbanSEDYOHO\",\n",
    "    input_shape=(1, 40, 257), n_classes=len(urbansed_train.labels)\n",
    ").to(device)\n",
    "\n",
    "summary(\n",
    "    urbansed_model,\n",
    "    input_size=(1, 40, 257),\n",
    "    batch_size=32,\n",
    ")"
   ]
  },
  {
   "cell_type": "markdown",
   "metadata": {},
   "source": [
    "## Training"
   ]
  },
  {
   "cell_type": "code",
   "execution_count": 10,
   "metadata": {},
   "outputs": [
    {
     "ename": "NameError",
     "evalue": "name 'device' is not defined",
     "output_type": "error",
     "traceback": [
      "\u001b[0;31m---------------------------------------------------------------------------\u001b[0m",
      "\u001b[0;31mNameError\u001b[0m                                 Traceback (most recent call last)",
      "Cell \u001b[0;32mIn[10], line 12\u001b[0m\n\u001b[1;32m      7\u001b[0m urbansed_model, optimizer, start_epoch, _ \u001b[38;5;241m=\u001b[39m load_checkpoint(\n\u001b[1;32m      8\u001b[0m     urbansed_model, optimizer\n\u001b[1;32m      9\u001b[0m )\n\u001b[1;32m     11\u001b[0m EPOCHS \u001b[38;5;241m=\u001b[39m \u001b[38;5;241m60\u001b[39m\n\u001b[0;32m---> 12\u001b[0m \u001b[43mtrain_model\u001b[49m\u001b[43m(\u001b[49m\n\u001b[1;32m     13\u001b[0m \u001b[43m        \u001b[49m\u001b[43mmodel\u001b[49m\u001b[38;5;241;43m=\u001b[39;49m\u001b[43murbansed_model\u001b[49m\u001b[43m,\u001b[49m\n\u001b[1;32m     14\u001b[0m \u001b[43m        \u001b[49m\u001b[43mtrain_loader\u001b[49m\u001b[38;5;241;43m=\u001b[39;49m\u001b[43mtrain_dataloader\u001b[49m\u001b[43m,\u001b[49m\n\u001b[1;32m     15\u001b[0m \u001b[43m        \u001b[49m\u001b[43mval_loader\u001b[49m\u001b[38;5;241;43m=\u001b[39;49m\u001b[43mval_dataloader\u001b[49m\u001b[43m,\u001b[49m\n\u001b[1;32m     16\u001b[0m \u001b[43m        \u001b[49m\u001b[43mnum_epochs\u001b[49m\u001b[38;5;241;43m=\u001b[39;49m\u001b[38;5;241;43m1\u001b[39;49m\u001b[43m,\u001b[49m\n\u001b[1;32m     17\u001b[0m \u001b[43m        \u001b[49m\u001b[43mstart_epoch\u001b[49m\u001b[38;5;241;43m=\u001b[39;49m\u001b[43mstart_epoch\u001b[49m\u001b[43m,\u001b[49m\n\u001b[1;32m     18\u001b[0m \u001b[43m    \u001b[49m\u001b[43m)\u001b[49m\n\u001b[1;32m     19\u001b[0m urbansed_model\u001b[38;5;241m.\u001b[39mload(\u001b[38;5;124mf\u001b[39m\u001b[38;5;124m\"\u001b[39m\u001b[38;5;124m./models/\u001b[39m\u001b[38;5;132;01m{\u001b[39;00murbansed_model\u001b[38;5;241m.\u001b[39mname\u001b[38;5;132;01m}\u001b[39;00m\u001b[38;5;124m_checkpoint.pth.tar\u001b[39m\u001b[38;5;124m\"\u001b[39m, device)\n",
      "File \u001b[0;32m/home/enstit/jupyterlab-notebooks/YOHO24/yoho/train.py:113\u001b[0m, in \u001b[0;36mtrain_model\u001b[0;34m(model, train_loader, val_loader, num_epochs, start_epoch)\u001b[0m\n\u001b[1;32m    109\u001b[0m running_loss \u001b[38;5;241m=\u001b[39m \u001b[38;5;241m0.0\u001b[39m\n\u001b[1;32m    111\u001b[0m \u001b[38;5;28;01mfor\u001b[39;00m _, (inputs, labels) \u001b[38;5;129;01min\u001b[39;00m \u001b[38;5;28menumerate\u001b[39m(train_loader):\n\u001b[1;32m    112\u001b[0m     \u001b[38;5;66;03m# Move the inputs and labels to the device\u001b[39;00m\n\u001b[0;32m--> 113\u001b[0m     inputs, labels \u001b[38;5;241m=\u001b[39m inputs\u001b[38;5;241m.\u001b[39mto(\u001b[43mdevice\u001b[49m), labels\u001b[38;5;241m.\u001b[39mto(device)\n\u001b[1;32m    114\u001b[0m     \u001b[38;5;66;03m# Zero the parameter gradients\u001b[39;00m\n\u001b[1;32m    115\u001b[0m     optimizer\u001b[38;5;241m.\u001b[39mzero_grad()\n",
      "\u001b[0;31mNameError\u001b[0m: name 'device' is not defined"
     ]
    }
   ],
   "source": [
    "from yoho.train import load_checkpoint, train_model\n",
    "\n",
    "# Get the optimizer\n",
    "optimizer = urbansed_model.get_optimizer()\n",
    "\n",
    "# Load the model checkpoint if it exists\n",
    "urbansed_model, optimizer, start_epoch, _ = load_checkpoint(\n",
    "    urbansed_model, optimizer\n",
    ")\n",
    "\n",
    "EPOCHS = 60\n",
    "train_model(\n",
    "        model=urbansed_model,\n",
    "        train_loader=train_dataloader,\n",
    "        val_loader=val_dataloader,\n",
    "        num_epochs=EPOCHS,\n",
    "        start_epoch=start_epoch,\n",
    "    )\n",
    "urbansed_model.load(f\"./models/{urbansed_model.name}_checkpoint.pth.tar\", device)"
   ]
  },
  {
   "cell_type": "markdown",
   "metadata": {},
   "source": [
    "## Evaluation"
   ]
  },
  {
   "cell_type": "code",
   "execution_count": null,
   "metadata": {},
   "outputs": [],
   "source": [
    "import json\n",
    "import matplotlib.pyplot as plt\n",
    "\n",
    "# Path to the losses.json file:\n",
    "\n",
    "# Load the losses.json file\n",
    "with open(\"./models/losses.json\", \"r\") as f:\n",
    "    losses = json.load(f)\n",
    "\n",
    "# Extract epochs, train_loss, and val_loss\n",
    "epochs = []\n",
    "train_losses = []\n",
    "val_losses = []\n",
    "\n",
    "for epoch, metrics in losses.items():\n",
    "    epochs.append(int(epoch))\n",
    "    train_losses.append(metrics[\"train_loss\"])\n",
    "    val_losses.append(metrics[\"val_loss\"])\n",
    "\n",
    "# Sort the data by epochs to ensure correct plotting\n",
    "epochs, train_losses, val_losses = zip(*sorted(zip(epochs, train_losses, val_losses)))\n",
    "\n",
    "\n",
    "# Plot the training and validation losses\n",
    "plt.figure(figsize=(10, 6))\n",
    "plt.plot(epochs, train_losses, label=\"Training Loss\")\n",
    "plt.plot(epochs, val_losses, label=\"Validation Loss\", linestyle=\"--\")\n",
    "plt.xlabel(\"Epochs\")\n",
    "plt.ylabel(\"Loss\")\n",
    "plt.title(\"Training and Validation Losses\")\n",
    "plt.legend()\n",
    "plt.grid(True)\n",
    "plt.show()"
   ]
  },
  {
   "cell_type": "code",
   "execution_count": null,
   "metadata": {},
   "outputs": [],
   "source": [
    "y_pred = model(train_features)"
   ]
  },
  {
   "cell_type": "code",
   "execution_count": null,
   "metadata": {},
   "outputs": [],
   "source": [
    "import tensorflow as tf\n",
    "\n",
    "def my_loss_fn(y_true, y_pred):\n",
    "\n",
    "  squared_difference = tf.square(y_true - y_pred)\n",
    "\n",
    "  ss_True = squared_difference[:, :, 0] * 0 + 1\n",
    "\n",
    "  ss_0 = y_true[:, :, 0]\n",
    "  ss_1 = y_true[:, :, 3]\n",
    "  ss_2 = y_true[:, :, 6]\n",
    "  ss_3 = y_true[:, :, 9]\n",
    "  ss_4 = y_true[:, :, 12]\n",
    "  ss_5 = y_true[:, :, 15]\n",
    "\n",
    "  sss = tf.stack((ss_True, ss_0, ss_0,\n",
    "                  ss_True, ss_1, ss_1,\n",
    "                  ss_True, ss_2, ss_2,\n",
    "                  ss_True, ss_3, ss_3,\n",
    "                  ss_True, ss_4, ss_4,\n",
    "                  ss_True, ss_5, ss_5), axis = 2)\n",
    "  \n",
    "  squared_difference =  tf.multiply(squared_difference, sss)\n",
    "\n",
    "  return tf.reduce_sum(squared_difference, axis=[-1, -2])  # Note the `axis=-1`"
   ]
  },
  {
   "cell_type": "code",
   "execution_count": null,
   "metadata": {},
   "outputs": [],
   "source": [
    "def custom_loss(target, output):\n",
    "    \"\"\"\n",
    "    Custom loss function to compute the sum squared error.\n",
    "\n",
    "    Parameters:\n",
    "    target (torch.Tensor): The target tensor with shape (batch, 18, 9).\n",
    "    output (torch.Tensor): The output of the neural network with shape (batch, 18, 9).\n",
    "\n",
    "    Returns:\n",
    "    torch.Tensor: The computed loss.\n",
    "    \"\"\"\n",
    "    # Extract class, start point, and end point from the output and target\n",
    "\n",
    "    output_class = output[:, 0::3, :]\n",
    "    output_start = output[:, 1::3, :]\n",
    "    output_end = output[:, 2::3, :]\n",
    "\n",
    "    target_class = target[:, 0::3, :]\n",
    "    target_start = target[:, 1::3, :]\n",
    "    target_end = target[:, 2::3, :]\n",
    "\n",
    "    # Determine the presence of the class\n",
    "    class_present = (target_class > 0).float()\n",
    "\n",
    "    # Compute squared differences for the class, start, and end points\n",
    "    error = (\n",
    "        (output_class - target_class).pow(2)\n",
    "        + (output_start - target_start).pow(2) * class_present\n",
    "        + (output_end - target_end).pow(2) * class_present\n",
    "    ).sum(dim=[1, 2])\n",
    "\n",
    "    return error"
   ]
  },
  {
   "cell_type": "code",
   "execution_count": null,
   "metadata": {},
   "outputs": [],
   "source": [
    "import numpy as np\n",
    "\n",
    "# Paper loss\n",
    "my_loss_fn(\n",
    "    np.swapaxes(train_labels.detach().numpy(), 1, 2),\n",
    "    np.swapaxes(y_pred.detach().numpy(), 1, 2),\n",
    ").numpy()"
   ]
  },
  {
   "cell_type": "code",
   "execution_count": null,
   "metadata": {},
   "outputs": [],
   "source": [
    "custom_loss(\n",
    "    train_labels,\n",
    "    y_pred,\n",
    ")"
   ]
  },
  {
   "cell_type": "code",
   "execution_count": null,
   "metadata": {},
   "outputs": [],
   "source": [
    "from yoho.losses import YOHOLoss\n",
    "\n",
    "# Our implemented loss\n",
    "yoho_loss = YOHOLoss()\n",
    "yoho_loss(\n",
    "    y_pred,\n",
    "    train_labels,\n",
    ")"
   ]
  },
  {
   "cell_type": "code",
   "execution_count": null,
   "metadata": {},
   "outputs": [],
   "source": []
  },
  {
   "cell_type": "code",
   "execution_count": null,
   "metadata": {},
   "outputs": [],
   "source": []
  }
 ],
 "metadata": {
  "kernelspec": {
   "display_name": "Python 3 (ipykernel)",
   "language": "python",
   "name": "python3"
  },
  "language_info": {
   "codemirror_mode": {
    "name": "ipython",
    "version": 3
   },
   "file_extension": ".py",
   "mimetype": "text/x-python",
   "name": "python",
   "nbconvert_exporter": "python",
   "pygments_lexer": "ipython3",
   "version": "3.11.3"
  }
 },
 "nbformat": 4,
 "nbformat_minor": 2
}
