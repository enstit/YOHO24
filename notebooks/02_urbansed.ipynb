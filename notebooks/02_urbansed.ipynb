{
 "cells": [
  {
   "cell_type": "markdown",
   "metadata": {},
   "source": [
    "# Urbansed"
   ]
  },
  {
   "cell_type": "code",
   "execution_count": 1,
   "metadata": {},
   "outputs": [],
   "source": [
    "# Automatically reload modules before entering the execution of code typed at \n",
    "# the IPython prompt\n",
    "%load_ext autoreload\n",
    "%autoreload 2"
   ]
  },
  {
   "cell_type": "code",
   "execution_count": 5,
   "metadata": {},
   "outputs": [
    {
     "name": "stdout",
     "output_type": "stream",
     "text": [
      "pandas version: 2.1.2\n",
      "matplotlib version: 3.8.3\n",
      "librosa version: 0.10.2.post1\n",
      "torch version: 2.4.0\n"
     ]
    }
   ],
   "source": [
    "# Import used libraries\n",
    "\n",
    "import pandas as pd\n",
    "import matplotlib\n",
    "from matplotlib import pyplot as plt\n",
    "import librosa\n",
    "import torch\n",
    "\n",
    "torch.manual_seed(0)\n",
    "\n",
    "print(f\"{pd.__name__} version: {pd.__version__}\")\n",
    "print(f\"{matplotlib.__name__} version: {matplotlib.__version__}\")\n",
    "print(f\"{librosa.__name__} version: {librosa.__version__}\")\n",
    "print(f\"{torch.__name__} version: {torch.__version__}\")"
   ]
  },
  {
   "cell_type": "code",
   "execution_count": 44,
   "metadata": {},
   "outputs": [],
   "source": [
    "from yoho.utils import AudioFile\n",
    "\n",
    "def plot_melspectrogram(\n",
    "    audio: AudioFile,\n",
    "    n_mels: int = 40,\n",
    "    win_len: float = 0.04,\n",
    "    hop_len: float = 0.01,\n",
    "):\n",
    "    \"\"\"\n",
    "    Plots the Mel spectrogram.\n",
    "    \"\"\"\n",
    "    plt.figure(figsize=(10, 4))\n",
    "    plt.title(f\"Mel spectrogram\")\n",
    "    librosa.display.specshow(\n",
    "        data=audio.mel_spectrogram(\n",
    "            n_mels=n_mels, win_len=win_len, hop_len=hop_len\n",
    "        ),\n",
    "        sr=audio.sr,\n",
    "        x_axis=\"frames\",\n",
    "        y_axis=\"mel\",\n",
    "    )\n",
    "    plt.colorbar(format=\"%+2.0f dB\")\n",
    "    plt.tight_layout()\n",
    "    plt.show()"
   ]
  },
  {
   "cell_type": "markdown",
   "metadata": {},
   "source": [
    "## TUT Dataset"
   ]
  },
  {
   "cell_type": "code",
   "execution_count": null,
   "metadata": {},
   "outputs": [],
   "source": [
    "from yoho.utils import AudioFile, UrbanSEDDataset"
   ]
  },
  {
   "cell_type": "code",
   "execution_count": null,
   "metadata": {},
   "outputs": [],
   "source": [
    "urbansed_train = UrbanSEDDataset(\n",
    "    audios=[\n",
    "        audioclip\n",
    "        for _, audio in enumerate(\n",
    "            AudioFile(filepath=file.filepath, labels=eval(file.events))\n",
    "            for _, file in pd.read_csv(\n",
    "                \"./data/raw/URBAN-SED/train.csv\"\n",
    "            ).iterrows()\n",
    "        )\n",
    "        for audioclip in audio.subdivide(win_len=2.56, hop_len=1.00)\n",
    "    ]\n",
    ")\n",
    "\n",
    "urbansed_val = UrbanSEDDataset(\n",
    "    audios=[\n",
    "        audioclip\n",
    "        for _, audio in enumerate(\n",
    "            AudioFile(filepath=file.filepath, labels=eval(file.events))\n",
    "            for _, file in pd.read_csv(\n",
    "                \"./data/raw/URBAN-SED/validate.csv\"\n",
    "            ).iterrows()\n",
    "        )\n",
    "        for audioclip in audio.subdivide(win_len=2.56, hop_len=1.00)\n",
    "    ]\n",
    ")\n",
    "\n",
    "urbansed_test = UrbanSEDDataset(\n",
    "    audios=[\n",
    "        audioclip\n",
    "        for _, audio in enumerate(\n",
    "            AudioFile(filepath=file.filepath, labels=eval(file.events))\n",
    "            for _, file in pd.read_csv(\n",
    "                \"./data/raw/URBAN-SED/test.csv\"\n",
    "            ).iterrows()\n",
    "        )\n",
    "        for audioclip in audio.subdivide(win_len=2.56, hop_len=1.00)\n",
    "    ]\n",
    ")\n",
    "\n",
    "print(f\"Number of audio clips in the train dataset: {len(urbansed_train)}\")\n",
    "print(f\"Number of audio clips in the validation dataset: {len(urbansed_val)}\")\n",
    "print(f\"Number of audio clips in the test dataset: {len(urbansed_test)}\")\n",
    "print(f\"Duration of each audio clips: {urbansed_train.audios[0].duration} seconds\")\n",
    "print(f\"Sampling rate of each audio clips: {urbansed_train.audios[0].sr} Hz\")"
   ]
  },
  {
   "cell_type": "code",
   "execution_count": 7,
   "metadata": {},
   "outputs": [],
   "source": [
    "audios = [\n",
    "    AudioFile(filepath=file.filepath, labels=eval(file.events))\n",
    "    for _, file in pd.read_csv(\"./data/raw/URBAN-SED/train.csv\").iterrows()\n",
    "]"
   ]
  },
  {
   "cell_type": "code",
   "execution_count": 13,
   "metadata": {},
   "outputs": [],
   "source": [
    "from yoho.utils import AudioFile, UrbanSEDDataset\n",
    "\n",
    "audioclips = [\n",
    "    audioclip\n",
    "    for audio in audios\n",
    "    for audioclip in audio.subdivide(win_len=2.56, hop_len=1.00)\n",
    "]"
   ]
  },
  {
   "cell_type": "code",
   "execution_count": 31,
   "metadata": {},
   "outputs": [
    {
     "data": {
      "text/plain": [
       "[('noise', 0, 2.0), ('street_music', 0, 1.9058476898372074)]"
      ]
     },
     "execution_count": 31,
     "metadata": {},
     "output_type": "execute_result"
    }
   ],
   "source": [
    "audioclips[8].labels"
   ]
  },
  {
   "cell_type": "code",
   "execution_count": 45,
   "metadata": {},
   "outputs": [
    {
     "data": {
      "image/png": "[encoded data removed]",
      "text/plain": [
       "<Figure size 1000x400 with 2 Axes>"
      ]
     },
     "metadata": {},
     "output_type": "display_data"
    }
   ],
   "source": [
    "plot_melspectrogram(\n",
    "    audio=audioclips[0],\n",
    ")"
   ]
  },
  {
   "cell_type": "code",
   "execution_count": 40,
   "metadata": {},
   "outputs": [
    {
     "data": {
      "text/plain": [
       "(112896,)"
      ]
     },
     "execution_count": 40,
     "metadata": {},
     "output_type": "execute_result"
    }
   ],
   "source": [
    "audioclips[0].waveform.shape"
   ]
  },
  {
   "cell_type": "code",
   "execution_count": null,
   "metadata": {},
   "outputs": [],
   "source": [
    "print(\n",
    "    audios[0],\n",
    "    audios[1],\n",
    "    audios[2],\n",
    "    audios[3],\n",
    "    audios[4],\n",
    "    audios[5],\n",
    "    audios[6],\n",
    "    audios[7],\n",
    "    audios[8],\n",
    "    audios[9],\n",
    "    sep=\"\\n\"\n",
    ")"
   ]
  },
  {
   "cell_type": "markdown",
   "metadata": {},
   "source": [
    "## Data generator"
   ]
  },
  {
   "cell_type": "code",
   "execution_count": null,
   "metadata": {},
   "outputs": [],
   "source": [
    "from yoho.utils import YOHODataGenerator"
   ]
  },
  {
   "cell_type": "code",
   "execution_count": null,
   "metadata": {},
   "outputs": [],
   "source": [
    "train_dataloader = YOHODataGenerator(\n",
    "    urbansed_train, batch_size=32, shuffle=True\n",
    ")\n",
    "\n",
    "val_dataloader = YOHODataGenerator(\n",
    "    urbansed_val, batch_size=32, shuffle=False\n",
    ")\n",
    "\n",
    "train_features, train_labels = next(iter(train_dataloader))\n",
    "\n",
    "print(f\"Train features shape: {train_features.shape}\")\n",
    "print(f\"Train labels shape: {train_labels.shape}\")"
   ]
  },
  {
   "cell_type": "markdown",
   "metadata": {},
   "source": [
    "## YOHO model"
   ]
  },
  {
   "cell_type": "code",
   "execution_count": null,
   "metadata": {},
   "outputs": [],
   "source": [
    "from torchsummary import summary\n",
    "\n",
    "from yoho.models import YOHO\n",
    "from yoho.train import get_device\n",
    "\n",
    "# Get the available device (cuda, mps or cpu)\n",
    "device = get_device()\n",
    "\n",
    "# Define the model\n",
    "urbansed_model = YOHO(\n",
    "    name=\"UrbanSEDYOHO\",\n",
    "    input_shape=(1, 40, 257), n_classes=len(urbansed_train.labels)\n",
    ").to(device)\n",
    "\n",
    "summary(\n",
    "    urbansed_model,\n",
    "    input_size=(1, 40, 257),\n",
    "    batch_size=32,\n",
    ")"
   ]
  },
  {
   "cell_type": "markdown",
   "metadata": {},
   "source": [
    "## Training"
   ]
  },
  {
   "cell_type": "code",
   "execution_count": null,
   "metadata": {},
   "outputs": [],
   "source": [
    "from yoho.train import load_checkpoint, train_model\n",
    "\n",
    "# Get the optimizer\n",
    "optimizer = urbansed_model.get_optimizer()\n",
    "\n",
    "# Load the model checkpoint if it exists\n",
    "urbansed_model, optimizer, start_epoch, _ = load_checkpoint(\n",
    "    urbansed_model, optimizer\n",
    ")\n",
    "\n",
    "EPOCHS = 60\n",
    "#train_model(\n",
    "#        model=urbansed_model,\n",
    "#        train_loader=train_dataloader,\n",
    "#        val_loader=val_dataloader,\n",
    "#        num_epochs=EPOCHS,\n",
    "#        start_epoch=start_epoch,\n",
    "#    )\n",
    "urbansed_model.load(f\"./models/{urbansed_model.name}_checkpoint.pth.tar\", device)"
   ]
  },
  {
   "cell_type": "markdown",
   "metadata": {},
   "source": [
    "## Evaluation"
   ]
  },
  {
   "cell_type": "code",
   "execution_count": null,
   "metadata": {},
   "outputs": [],
   "source": [
    "import json\n",
    "import matplotlib.pyplot as plt\n",
    "\n",
    "# Path to the losses.json file:\n",
    "\n",
    "# Load the losses.json file\n",
    "with open(\"./models/losses.json\", \"r\") as f:\n",
    "    losses = json.load(f)\n",
    "\n",
    "# Extract epochs, train_loss, and val_loss\n",
    "epochs = []\n",
    "train_losses = []\n",
    "val_losses = []\n",
    "\n",
    "for epoch, metrics in losses.items():\n",
    "    epochs.append(int(epoch))\n",
    "    train_losses.append(metrics[\"train_loss\"])\n",
    "    val_losses.append(metrics[\"val_loss\"])\n",
    "\n",
    "# Sort the data by epochs to ensure correct plotting\n",
    "epochs, train_losses, val_losses = zip(\n",
    "    *sorted(zip(epochs, train_losses, val_losses))\n",
    ")\n",
    "\n",
    "\n",
    "# Plot the training and validation losses\n",
    "plt.figure(figsize=(10, 6))\n",
    "plt.plot(epochs, train_losses, label=\"Training Loss\")\n",
    "plt.plot(epochs, val_losses, label=\"Validation Loss\", linestyle=\"--\")\n",
    "plt.xlabel(\"Epochs\")\n",
    "plt.ylabel(\"Loss\")\n",
    "plt.title(\"Training and Validation Losses\")\n",
    "plt.legend()\n",
    "plt.grid(True)\n",
    "plt.show()"
   ]
  },
  {
   "cell_type": "code",
   "execution_count": null,
   "metadata": {},
   "outputs": [],
   "source": [
    "y_pred = urbansed_model(train_features)"
   ]
  },
  {
   "cell_type": "code",
   "execution_count": null,
   "metadata": {},
   "outputs": [],
   "source": [
    "import tensorflow as tf\n",
    "\n",
    "def my_loss_fn(y_true, y_pred):\n",
    "\n",
    "  squared_difference = tf.square(y_true - y_pred)\n",
    "\n",
    "  ss_True = squared_difference[:, :, 0] * 0 + 1\n",
    "\n",
    "  ss_0 = y_true[:, :, 0]\n",
    "  ss_1 = y_true[:, :, 3]\n",
    "  ss_2 = y_true[:, :, 6]\n",
    "  ss_3 = y_true[:, :, 9]\n",
    "  ss_4 = y_true[:, :, 12]\n",
    "  ss_5 = y_true[:, :, 15]\n",
    "\n",
    "  sss = tf.stack((ss_True, ss_0, ss_0,\n",
    "                  ss_True, ss_1, ss_1,\n",
    "                  ss_True, ss_2, ss_2,\n",
    "                  ss_True, ss_3, ss_3,\n",
    "                  ss_True, ss_4, ss_4,\n",
    "                  ss_True, ss_5, ss_5), axis = 2)\n",
    "  \n",
    "  squared_difference =  tf.multiply(squared_difference, sss)\n",
    "\n",
    "  return tf.reduce_sum(squared_difference, axis=[-1, -2])  # Note the `axis=-1`"
   ]
  },
  {
   "cell_type": "code",
   "execution_count": null,
   "metadata": {},
   "outputs": [],
   "source": [
    "def custom_loss(target, output):\n",
    "    \"\"\"\n",
    "    Custom loss function to compute the sum squared error.\n",
    "\n",
    "    Parameters:\n",
    "    target (torch.Tensor): The target tensor with shape (batch, 18, 9).\n",
    "    output (torch.Tensor): The output of the neural network with shape (batch, 18, 9).\n",
    "\n",
    "    Returns:\n",
    "    torch.Tensor: The computed loss.\n",
    "    \"\"\"\n",
    "    # Extract class, start point, and end point from the output and target\n",
    "\n",
    "    output_class = output[:, 0::3, :]\n",
    "    output_start = output[:, 1::3, :]\n",
    "    output_end = output[:, 2::3, :]\n",
    "\n",
    "    target_class = target[:, 0::3, :]\n",
    "    target_start = target[:, 1::3, :]\n",
    "    target_end = target[:, 2::3, :]\n",
    "\n",
    "    # Determine the presence of the class\n",
    "    class_present = (target_class > 0).float()\n",
    "\n",
    "    # Compute squared differences for the class, start, and end points\n",
    "    error = (\n",
    "        (output_class - target_class).pow(2)\n",
    "        + (output_start - target_start).pow(2) * class_present\n",
    "        + (output_end - target_end).pow(2) * class_present\n",
    "    ).sum(dim=[1, 2])\n",
    "\n",
    "    return error"
   ]
  },
  {
   "cell_type": "code",
   "execution_count": null,
   "metadata": {},
   "outputs": [],
   "source": [
    "import numpy as np\n",
    "\n",
    "# Paper loss\n",
    "my_loss_fn(\n",
    "    np.swapaxes(train_labels.detach().numpy(), 1, 2),\n",
    "    np.swapaxes(y_pred.detach().numpy(), 1, 2),\n",
    ").numpy()"
   ]
  },
  {
   "cell_type": "code",
   "execution_count": null,
   "metadata": {},
   "outputs": [],
   "source": [
    "custom_loss(\n",
    "    train_labels,\n",
    "    y_pred,\n",
    ")"
   ]
  },
  {
   "cell_type": "code",
   "execution_count": null,
   "metadata": {},
   "outputs": [],
   "source": [
    "from yoho.losses import YOHOLoss\n",
    "\n",
    "# Our implemented loss\n",
    "yoho_loss = YOHOLoss()\n",
    "yoho_loss(\n",
    "    y_pred,\n",
    "    train_labels,\n",
    ")"
   ]
  },
  {
   "cell_type": "code",
   "execution_count": null,
   "metadata": {},
   "outputs": [],
   "source": []
  },
  {
   "cell_type": "code",
   "execution_count": null,
   "metadata": {},
   "outputs": [],
   "source": []
  }
 ],
 "metadata": {
  "kernelspec": {
   "display_name": "Python 3 (ipykernel)",
   "language": "python",
   "name": "python3"
  },
  "language_info": {
   "codemirror_mode": {
    "name": "ipython",
    "version": 3
   },
   "file_extension": ".py",
   "mimetype": "text/x-python",
   "name": "python",
   "nbconvert_exporter": "python",
   "pygments_lexer": "ipython3",
   "version": "3.11.8"
  }
 },
 "nbformat": 4,
 "nbformat_minor": 2
}
