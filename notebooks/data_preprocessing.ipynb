{
 "cells": [
  {
   "cell_type": "markdown",
   "metadata": {},
   "source": [
    "## Data Preprocessing\n",
    "\n",
    "1. **Process Annotations**: Read the annotation files for each dataset and convert the event data into a unified format. For example, for the MUSP dataset, annotations are transformed into a list of events where each event is represented as a tuple containing the event type ('m' for music or 's' for speech), start time, and end time.\n",
    "\n",
    "2. **Save Processed Data**: Save the processed data, including the audio file paths and their corresponding events, into a new CSV file. This structured data will serve as the input for data generator."
   ]
  },
  {
   "cell_type": "code",
   "execution_count": 57,
   "metadata": {},
   "outputs": [],
   "source": [
    "import os\n",
    "import csv"
   ]
  },
  {
   "cell_type": "code",
   "execution_count": 65,
   "metadata": {},
   "outputs": [],
   "source": [
    "def get_files(data_path:str, extensions:str) -> list:\n",
    "  \"\"\"\n",
    "  Get a list of files in the specified data path with the given extensions.\n",
    "\n",
    "  Parameters:\n",
    "  - data_path (str): The path to the directory containing the files.\n",
    "  - extensions (str or tuple): The file extensions to filter by.\n",
    "\n",
    "  Returns:\n",
    "  - files (list): A list of file names that match the specified extensions.\n",
    "  \"\"\"\n",
    "  return [f for f in os.listdir(data_path) if f.endswith(extensions)]\n",
    "\n",
    "\n",
    "def write_data_to_csv(data:dict, output_path:str) -> None:\n",
    "  \"\"\"\n",
    "  Takes a dictionary and writes it to a CSV file.\n",
    "\n",
    "  Parameters:\n",
    "  - data (dict): A dictionary containing the data to be written to the CSV file.\n",
    "  - output_path (str): The path to the output CSV file.\n",
    "  \"\"\"\n",
    "  with open(output_path, 'w', newline='') as file:\n",
    "    writer = csv.writer(file)\n",
    "    writer.writerow(['filepath', 'events'])\n",
    "\n",
    "    for key, value in data.items():\n",
    "      if value:\n",
    "        writer.writerow([key, value])"
   ]
  },
  {
   "cell_type": "markdown",
   "metadata": {},
   "source": [
    "### Musp"
   ]
  },
  {
   "cell_type": "code",
   "execution_count": 66,
   "metadata": {},
   "outputs": [
    {
     "name": "stdout",
     "output_type": "stream",
     "text": [
      "Processing ./data/musp/ConscinciasParalelasN11-OEspelhoEOReflexoFantasiasEPerplexidadesParte413-12-1994.mp3...\n",
      "Processing ./data/musp/ConscinciasParalelasN3-OsSentidosOSentirEAsNormasParte318-10-1994.mp3...\n",
      "Processing ./data/musp/ConscinciasParalelasN7-OsSentidosOSentirEAsNormasParte715-1-1994.mp3...\n",
      "Processing ./data/musp/eatmycountry1609.mp3...\n",
      "Processing ./data/musp/theconcert16.mp3...\n",
      "Processing ./data/musp/theconcert2.mp3...\n",
      "Processing ./data/musp/UTMA-26.mp3...\n"
     ]
    }
   ],
   "source": [
    "MUSP_ANNOTATIONS_PATH = '../data/musp/'\n",
    "\n",
    "# Get all the annotation files (name) in the data path:\n",
    "files = get_files(MUSP_ANNOTATIONS_PATH, extensions='.csv')\n",
    "\n",
    "# !! Remove some annotation files that are not linked to audio files:\n",
    "files.remove('theconcert2_v2.csv')  # no file named 'theconcert2_v2.mp3'\n",
    "files.remove('UTMA-26_v2.csv')      # no file named 'UTMA-26_v2.mp3'\n",
    "\n",
    "musp_data = {}  # This dictionary will store for each audio file the list of events\n",
    "                # i.e. {'../data/musp/audio_file.mp3': [('s', 20, 22), ('s', 25, 27), ...]}\n",
    "\n",
    "for f in files:\n",
    "    with open(MUSP_ANNOTATIONS_PATH + f, 'r') as file:\n",
    "\n",
    "        reader = csv.reader(file)\n",
    "\n",
    "        MP3_FILE_PATH = './data/musp/' + f.split('.')[0] + '.mp3'\n",
    "        musp_data[MP3_FILE_PATH] = []       # Initialize the list of events for this file\n",
    "\n",
    "        print(f'Processing {MP3_FILE_PATH}...')\n",
    "\n",
    "        for row in reader: # Read the events from the CSV file\n",
    "            \n",
    "            if not row: # Skip empty lines\n",
    "              continue\n",
    "  \n",
    "            start = float(row[0])       # Start time of the event (in seconds)\n",
    "            duration = float(row[1])    # Duration of the event (in seconds)\n",
    "            end_time = start + duration # End time of the event (in seconds)\n",
    "            label = str(row[2])         # Label of the event  \n",
    "\n",
    "            assert (start < end_time), f\"Start time ({start}) must be less than end time ({end_time})\"\n",
    "            # Append the event to the list of events for this audio file:\n",
    "            musp_data[MP3_FILE_PATH].append(\n",
    "              (label, start, end_time) \n",
    "            )                          \n",
    "\n",
    "write_data_to_csv(musp_data, '../data/musp.csv')"
   ]
  },
  {
   "cell_type": "markdown",
   "metadata": {},
   "source": [
    "### TUT (development)"
   ]
  },
  {
   "cell_type": "code",
   "execution_count": 68,
   "metadata": {},
   "outputs": [
    {
     "name": "stdout",
     "output_type": "stream",
     "text": [
      "Processing ./data/tut/TUT-sound-events-2017-development/TUT-sound-events-2017-development.audio.1/TUT-sound-events-2017-development/audio/street/a001.wav...\n",
      "Processing ./data/tut/TUT-sound-events-2017-development/TUT-sound-events-2017-development.audio.1/TUT-sound-events-2017-development/audio/street/a003.wav...\n",
      "Processing ./data/tut/TUT-sound-events-2017-development/TUT-sound-events-2017-development.audio.1/TUT-sound-events-2017-development/audio/street/a008.wav...\n",
      "Processing ./data/tut/TUT-sound-events-2017-development/TUT-sound-events-2017-development.audio.1/TUT-sound-events-2017-development/audio/street/a010.wav...\n",
      "Processing ./data/tut/TUT-sound-events-2017-development/TUT-sound-events-2017-development.audio.1/TUT-sound-events-2017-development/audio/street/a012.wav...\n",
      "Processing ./data/tut/TUT-sound-events-2017-development/TUT-sound-events-2017-development.audio.1/TUT-sound-events-2017-development/audio/street/a013.wav...\n",
      "Processing ./data/tut/TUT-sound-events-2017-development/TUT-sound-events-2017-development.audio.1/TUT-sound-events-2017-development/audio/street/a124.wav...\n",
      "Processing ./data/tut/TUT-sound-events-2017-development/TUT-sound-events-2017-development.audio.1/TUT-sound-events-2017-development/audio/street/a127.wav...\n",
      "Processing ./data/tut/TUT-sound-events-2017-development/TUT-sound-events-2017-development.audio.2/TUT-sound-events-2017-development/audio/street/a128.wav...\n",
      "Processing ./data/tut/TUT-sound-events-2017-development/TUT-sound-events-2017-development.audio.1/TUT-sound-events-2017-development/audio/street/a129.wav...\n",
      "Processing ./data/tut/TUT-sound-events-2017-development/TUT-sound-events-2017-development.audio.2/TUT-sound-events-2017-development/audio/street/a131.wav...\n",
      "Processing ./data/tut/TUT-sound-events-2017-development/TUT-sound-events-2017-development.audio.1/TUT-sound-events-2017-development/audio/street/b003.wav...\n",
      "Processing ./data/tut/TUT-sound-events-2017-development/TUT-sound-events-2017-development.audio.1/TUT-sound-events-2017-development/audio/street/b005.wav...\n",
      "Processing ./data/tut/TUT-sound-events-2017-development/TUT-sound-events-2017-development.audio.1/TUT-sound-events-2017-development/audio/street/b006.wav...\n",
      "Processing ./data/tut/TUT-sound-events-2017-development/TUT-sound-events-2017-development.audio.2/TUT-sound-events-2017-development/audio/street/b007.wav...\n",
      "Processing ./data/tut/TUT-sound-events-2017-development/TUT-sound-events-2017-development.audio.1/TUT-sound-events-2017-development/audio/street/b008.wav...\n",
      "Processing ./data/tut/TUT-sound-events-2017-development/TUT-sound-events-2017-development.audio.1/TUT-sound-events-2017-development/audio/street/b009.wav...\n",
      "Processing ./data/tut/TUT-sound-events-2017-development/TUT-sound-events-2017-development.audio.1/TUT-sound-events-2017-development/audio/street/b091.wav...\n",
      "Processing ./data/tut/TUT-sound-events-2017-development/TUT-sound-events-2017-development.audio.2/TUT-sound-events-2017-development/audio/street/b093.wav...\n",
      "Processing ./data/tut/TUT-sound-events-2017-development/TUT-sound-events-2017-development.audio.1/TUT-sound-events-2017-development/audio/street/b094.wav...\n",
      "Processing ./data/tut/TUT-sound-events-2017-development/TUT-sound-events-2017-development.audio.1/TUT-sound-events-2017-development/audio/street/b095.wav...\n",
      "Processing ./data/tut/TUT-sound-events-2017-development/TUT-sound-events-2017-development.audio.1/TUT-sound-events-2017-development/audio/street/b098.wav...\n",
      "Processing ./data/tut/TUT-sound-events-2017-development/TUT-sound-events-2017-development.audio.1/TUT-sound-events-2017-development/audio/street/b099.wav...\n",
      "Processing ./data/tut/TUT-sound-events-2017-development/TUT-sound-events-2017-development.audio.1/TUT-sound-events-2017-development/audio/street/b100.wav...\n"
     ]
    }
   ],
   "source": [
    "\n",
    "\n",
    "AUDIO_1_PATH = './data/tut/TUT-sound-events-2017-development/TUT-sound-events-2017-development.audio.1/TUT-sound-events-2017-development/audio/street/'\n",
    "AUDIO_2_PATH = './data/tut/TUT-sound-events-2017-development/TUT-sound-events-2017-development.audio.2/TUT-sound-events-2017-development/audio/street/'\n",
    "DATA_PATH = '../data/tut/'\n",
    "\n",
    "DEVELOPMENT_ANNOTATIONS_PATH = '../data/tut/TUT-sound-events-2017-development/TUT-sound-events-2017-development.meta/TUT-sound-events-2017-development/meta/street/'\n",
    "\n",
    "files = get_files(DEVELOPMENT_ANNOTATIONS_PATH, extensions='.ann')\n",
    "\n",
    "tut_data = {}\n",
    "for f in files:\n",
    "    with open(DEVELOPMENT_ANNOTATIONS_PATH + f, 'r'):\n",
    "\n",
    "        f_name = f.split('.')[0] + '.wav'\n",
    "\n",
    "        if f_name in ['a128.wav', 'a131.wav', 'b007.wav', 'b093.wav']:\n",
    "            f_path = AUDIO_2_PATH + f_name\n",
    "        else:\n",
    "          f_path = AUDIO_1_PATH + f_name\n",
    "          \n",
    "        tut_data[f_path] = []\n",
    "\n",
    "        print(f'Processing {f_path}...')\n",
    "\n",
    "        with open(DEVELOPMENT_ANNOTATIONS_PATH + f, 'r') as file:\n",
    "\n",
    "            reader = csv.reader(file)\n",
    "\n",
    "            for row in reader:\n",
    "                if row:\n",
    "                    # split in \\t and get the start and end time\n",
    "                    row = row[0].split('\\t')\n",
    "                    start = float(row[2])\n",
    "                    end = float(row[3])\n",
    "                    label = row[4]\n",
    "                    tut_data[f_path].append(\n",
    "                        (label, start, end)\n",
    "                    )\n",
    "\n",
    "write_data_to_csv(tut_data, '../data/tut.csv')"
   ]
  },
  {
   "cell_type": "markdown",
   "metadata": {},
   "source": [
    "### Urban-SED (train)"
   ]
  },
  {
   "cell_type": "code",
   "execution_count": 69,
   "metadata": {},
   "outputs": [],
   "source": [
    "import jams\n",
    "URBAN_SED_ANNOTATIONS_PATH = '../data/urbansed/URBAN-SED_v2.0.0/annotations/train/'\n",
    "\n",
    "files = get_files(URBAN_SED_ANNOTATIONS_PATH, extensions='jams')\n",
    "\n",
    "def parse_jams_file(jams_file):\n",
    "    \"\"\"\n",
    "    Parse a JAMS file and extract the annotations.\n",
    "\n",
    "    Parameters:\n",
    "    - jams_file (str): The path to the JAMS file.\n",
    "\n",
    "    Returns:\n",
    "    - events (list): A list of tuples containing the event type, start time, and end time.\n",
    "    \"\"\"\n",
    "    jam = jams.load(jams_file)\n",
    "    events = []\n",
    "    for annotation in jam.annotations:\n",
    "\n",
    "        for obs in annotation.data:\n",
    "\n",
    "            start_time = obs.value['event_time']\n",
    "            end_time = obs.value['event_time'] + obs.value['event_duration']\n",
    "            label = obs.value['label']\n",
    "            events.append((label, start_time, end_time))\n",
    "\n",
    "        return events\n",
    "\n",
    "DATA_PATH = '../data/urbansed/URBAN-SED_v2.0.0/annotations/train/'\n",
    "AUDIO_PATH = '../data/urbansed/URBAN-SED_v2.0.0/audio/train/'\n",
    "\n",
    "urbansed_data = {}\n",
    "for f in files:\n",
    "    f_path = DATA_PATH + f\n",
    "    f = f.split('.')[0] + '.wav'\n",
    "    urbansed_data[AUDIO_PATH+f] = parse_jams_file(f_path)\n",
    "\n",
    "write_data_to_csv(urbansed_data, '../data/urbansed.csv')"
   ]
  }
 ],
 "metadata": {
  "kernelspec": {
   "display_name": "base",
   "language": "python",
   "name": "python3"
  },
  "language_info": {
   "codemirror_mode": {
    "name": "ipython",
    "version": 3
   },
   "file_extension": ".py",
   "mimetype": "text/x-python",
   "name": "python",
   "nbconvert_exporter": "python",
   "pygments_lexer": "ipython3",
   "version": "3.11.5"
  }
 },
 "nbformat": 4,
 "nbformat_minor": 2
}
