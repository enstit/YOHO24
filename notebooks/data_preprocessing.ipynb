{
 "cells": [
  {
   "cell_type": "markdown",
   "metadata": {},
   "source": [
    "## Data Preprocessing\n",
    "\n",
    "1. **Process Annotations**: Read the annotation files for each dataset and convert the event data into a unified format. For example, for the MUSP dataset, annotations are transformed into a list of events where each event is represented as a tuple containing the event type ('m' for music or 's' for speech), start time, and end time.\n",
    "\n",
    "2. **Save Processed Data**: Save the processed data, including the audio file paths and their corresponding events, into a new CSV file. This structured data will serve as the input for data generator."
   ]
  },
  {
   "cell_type": "code",
   "execution_count": null,
   "metadata": {},
   "outputs": [],
   "source": [
    "import os\n",
    "import csv"
   ]
  },
  {
   "cell_type": "code",
   "execution_count": 42,
   "metadata": {},
   "outputs": [
    {
     "name": "stdout",
     "output_type": "stream",
     "text": [
      "Processing ConscinciasParalelasN11-OEspelhoEOReflexoFantasiasEPerplexidadesParte413-12-1994.mp3...\n",
      "Processing ConscinciasParalelasN3-OsSentidosOSentirEAsNormasParte318-10-1994.mp3...\n",
      "Processing ConscinciasParalelasN7-OsSentidosOSentirEAsNormasParte715-1-1994.mp3...\n",
      "Processing eatmycountry1609.mp3...\n",
      "Processing theconcert16.mp3...\n",
      "Processing theconcert2.mp3...\n",
      "Processing theconcert2_v2.mp3...\n",
      "Processing UTMA-26.mp3...\n",
      "Processing UTMA-26_v2.mp3...\n"
     ]
    }
   ],
   "source": [
    "DATA_PATH = '../data/musp/'\n",
    "\n",
    "def get_files(data_path, extensions):\n",
    "  \"\"\"\n",
    "  Get a list of files in the specified data path with the given extensions.\n",
    "\n",
    "  Parameters:\n",
    "  - data_path (str): The path to the directory containing the files.\n",
    "  - extensions (str or tuple): The file extensions to filter by.\n",
    "\n",
    "  Returns:\n",
    "  - files (list): A list of file names that match the specified extensions.\n",
    "  \"\"\"\n",
    "  files = [f for f in os.listdir(data_path) if f.endswith(extensions)]\n",
    "  return files\n",
    "\n",
    "def write_data_to_csv(data, output_path):\n",
    "  \"\"\"\n",
    "  Write data to a CSV file.\n",
    "\n",
    "  Args:\n",
    "    data (dict): A dictionary containing the data to be written to the CSV file.\n",
    "    output_path (str): The path to the output CSV file.\n",
    "\n",
    "  Returns:\n",
    "    None\n",
    "  \"\"\"\n",
    "  with open(output_path, 'w', newline='') as file:\n",
    "    writer = csv.writer(file)\n",
    "    writer.writerow(['filepath', 'events'])\n",
    "    for key, value in data.items():\n",
    "      if value:\n",
    "        writer.writerow([key, value])\n",
    "\n",
    "# Get list of files in the data path with the .csv extension:\n",
    "files = get_files(DATA_PATH, extensions='.csv')\n",
    "\n",
    "musp_data = {}\n",
    "for f in files:\n",
    "    with open(DATA_PATH + f, 'r') as file:\n",
    "        reader = csv.reader(file)\n",
    "        file_name = f.split('.')[0]     # file name without the extension\n",
    "        file_name = file_name + '.mp3'  # add the .mp3 extension to match the audio files\n",
    "        musp_data[file_name] = []       # Initialize the list of events for this file\n",
    "\n",
    "        print(f'Processing {file_name}...')\n",
    "        for row in reader:\n",
    "            if row: # Skip empty lines\n",
    "              start = float(row[0])\n",
    "              duration = float(row[1])\n",
    "              end_time = start + duration\n",
    "              label = str(row[2])\n",
    "\n",
    "              musp_data[file_name].append(\n",
    "                (label, start, end_time) # Tuple with the event label, start (seconds) and end time (seconds)\n",
    "              )                          # i.e. ('s', 20, 22) means that the event 's' starts at 20s and ends at 22s\n",
    "\n",
    "# Write the data to a CSV file:     \n",
    "write_data_to_csv(musp_data, '../data/processed/musp.csv')"
   ]
  }
 ],
 "metadata": {
  "kernelspec": {
   "display_name": "base",
   "language": "python",
   "name": "python3"
  },
  "language_info": {
   "codemirror_mode": {
    "name": "ipython",
    "version": 3
   },
   "file_extension": ".py",
   "mimetype": "text/x-python",
   "name": "python",
   "nbconvert_exporter": "python",
   "pygments_lexer": "ipython3",
   "version": "3.11.5"
  }
 },
 "nbformat": 4,
 "nbformat_minor": 2
}
